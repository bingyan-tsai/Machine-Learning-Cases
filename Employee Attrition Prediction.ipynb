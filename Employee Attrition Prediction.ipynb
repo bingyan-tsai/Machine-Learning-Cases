{
 "cells": [
  {
   "cell_type": "code",
   "execution_count": 93,
   "id": "fd22b6d6",
   "metadata": {},
   "outputs": [],
   "source": [
    "import warnings\n",
    "warnings.filterwarnings(\"ignore\")"
   ]
  },
  {
   "cell_type": "code",
   "execution_count": 94,
   "id": "b89d8595",
   "metadata": {},
   "outputs": [],
   "source": [
    "import sklearn\n",
    "import numpy as np\n",
    "import pandas as pd\n",
    "import matplotlib.pyplot as plt"
   ]
  },
  {
   "cell_type": "code",
   "execution_count": 95,
   "id": "ff1d20ff",
   "metadata": {},
   "outputs": [],
   "source": [
    "np.set_printoptions(suppress=True)\n",
    "pd.set_option(\"display.float_format\", lambda x: '%2f' %x)"
   ]
  },
  {
   "cell_type": "code",
   "execution_count": 96,
   "id": "a682044f",
   "metadata": {},
   "outputs": [],
   "source": [
    "def plot_roc_curve(fpr, tpr, label=None):\n",
    "    plt.plot(fpr, tpr, linewidth=2, label=label)\n",
    "    plt.plot([0, 1], [0, 1], 'k--')\n",
    "    plt.axis([0, 1, 0, 1])\n",
    "    plt.xlabel('False Positive Rate (Fall-Out)', fontsize=16)\n",
    "    plt.ylabel('True Positive Rate (Recall)',    fontsize=16)\n",
    "    plt.grid(True)"
   ]
  },
  {
   "cell_type": "markdown",
   "id": "efd93287",
   "metadata": {},
   "source": [
    "### Data Preprocessing"
   ]
  },
  {
   "cell_type": "code",
   "execution_count": 97,
   "id": "da45bd1b",
   "metadata": {},
   "outputs": [],
   "source": [
    "data = pd.read_csv(\"data.csv\")"
   ]
  },
  {
   "cell_type": "code",
   "execution_count": 98,
   "id": "68571d95",
   "metadata": {},
   "outputs": [
    {
     "data": {
      "text/plain": [
       "(22260, 65)"
      ]
     },
     "execution_count": 98,
     "metadata": {},
     "output_type": "execute_result"
    }
   ],
   "source": [
    "data.shape"
   ]
  },
  {
   "cell_type": "code",
   "execution_count": 99,
   "id": "ca203c57",
   "metadata": {},
   "outputs": [
    {
     "name": "stdout",
     "output_type": "stream",
     "text": [
      "No. of training examples: 10585\n",
      "No. of testing examples:  11675\n"
     ]
    }
   ],
   "source": [
    "training_data = data.loc[data[\"Year\"]==1]\n",
    "testing_data  = data.loc[data[\"Year\"]==2]\n",
    "\n",
    "print(f\"No. of training examples: {training_data.shape[0]}\")\n",
    "print(f\"No. of testing examples:  { testing_data.shape[0]}\")"
   ]
  },
  {
   "cell_type": "code",
   "execution_count": 100,
   "id": "d75c05b4",
   "metadata": {},
   "outputs": [],
   "source": [
    "x_train = training_data.drop([\"Quit\", \"ID\", \"Year\", \"TotalDay\",\n",
    "                              \"LastMonthSalary\", \"LastMonthSalaryBonus\", \"LiveDormRatio\",\n",
    "                              \"LastMonthSalaryBonusPct\", \"LastMonthSalaryPct\", \"LeavePeakSeason\"], axis=1)\n",
    "\n",
    "x_test  =  testing_data.drop([\"Quit\", \"ID\", \"Year\", \"TotalDay\",\n",
    "                              \"LastMonthSalary\", \"LastMonthSalaryBonus\", \"LiveDormRatio\",\n",
    "                              \"LastMonthSalaryBonusPct\", \"LastMonthSalaryPct\", \"LeavePeakSeason\"], axis=1)"
   ]
  },
  {
   "cell_type": "code",
   "execution_count": 101,
   "id": "fe51263a",
   "metadata": {},
   "outputs": [],
   "source": [
    "y_train = training_data[\"Quit\"]\n",
    "y_test  =  testing_data[\"Quit\"]"
   ]
  },
  {
   "cell_type": "code",
   "execution_count": 102,
   "id": "cf76c8ad",
   "metadata": {},
   "outputs": [
    {
     "data": {
      "image/png": "[encoded data removed]",
      "text/plain": [
       "<Figure size 720x360 with 1 Axes>"
      ]
     },
     "metadata": {},
     "output_type": "display_data"
    }
   ],
   "source": [
    "plt.figure(figsize=(10,5))\n",
    "y_train.value_counts().plot(kind='pie', \n",
    "                            colors=['skyblue','lightcoral'], \n",
    "                            autopct='%1.2f%%' )\n",
    "plt.ylabel(\"\")\n",
    "plt.show()"
   ]
  },
  {
   "cell_type": "markdown",
   "id": "09e20d8f",
   "metadata": {},
   "source": [
    "### Use SMOTE to handle  unbalance data"
   ]
  },
  {
   "cell_type": "code",
   "execution_count": 103,
   "id": "c2caba1a",
   "metadata": {},
   "outputs": [],
   "source": [
    "# !pip install imblearn"
   ]
  },
  {
   "cell_type": "code",
   "execution_count": 104,
   "id": "0f76ebe4",
   "metadata": {},
   "outputs": [],
   "source": [
    "from imblearn.over_sampling import SMOTE\n",
    "x_train, y_train = SMOTE().fit_resample(x_train, y_train)"
   ]
  },
  {
   "cell_type": "code",
   "execution_count": 105,
   "id": "37e4c03c",
   "metadata": {},
   "outputs": [
    {
     "name": "stdout",
     "output_type": "stream",
     "text": [
      "20712\n",
      "20712\n"
     ]
    }
   ],
   "source": [
    "print(len(x_train))\n",
    "print(len(y_train))"
   ]
  },
  {
   "cell_type": "code",
   "execution_count": 106,
   "id": "1d32095b",
   "metadata": {},
   "outputs": [
    {
     "data": {
      "image/png": "[encoded data removed]",
      "text/plain": [
       "<Figure size 720x360 with 1 Axes>"
      ]
     },
     "metadata": {},
     "output_type": "display_data"
    }
   ],
   "source": [
    "plt.figure(figsize=(10,5))\n",
    "y_train.value_counts().plot(kind='pie', \n",
    "                            colors=['skyblue','lightcoral'], \n",
    "                            autopct='%1.2f%%' )\n",
    "plt.ylabel(\"\")\n",
    "plt.show()"
   ]
  },
  {
   "cell_type": "markdown",
   "id": "1d5fbeab",
   "metadata": {},
   "source": [
    "### [The First Time Calculation of Random Forest (For Feature Extraction)](https://scikit-learn.org/stable/modules/generated/sklearn.ensemble.RandomForestClassifier.html)"
   ]
  },
  {
   "cell_type": "code",
   "execution_count": 107,
   "id": "97836359",
   "metadata": {},
   "outputs": [],
   "source": [
    "seed = 42"
   ]
  },
  {
   "cell_type": "code",
   "execution_count": 108,
   "id": "657ac4dc",
   "metadata": {},
   "outputs": [
    {
     "data": {
      "text/plain": [
       "RandomForestClassifier(random_state=42)"
      ]
     },
     "execution_count": 108,
     "metadata": {},
     "output_type": "execute_result"
    }
   ],
   "source": [
    "from sklearn.ensemble import RandomForestClassifier\n",
    "\n",
    "n_estimators = 100\n",
    "rf = RandomForestClassifier(random_state= seed,\n",
    "                            n_estimators=n_estimators)\n",
    "\n",
    "rf.fit(x_train, y_train)"
   ]
  },
  {
   "cell_type": "code",
   "execution_count": 109,
   "id": "3460dc67",
   "metadata": {
    "scrolled": true
   },
   "outputs": [
    {
     "data": {
      "text/html": [
       "<div>\n",
       "<style scoped>\n",
       "    .dataframe tbody tr th:only-of-type {\n",
       "        vertical-align: middle;\n",
       "    }\n",
       "\n",
       "    .dataframe tbody tr th {\n",
       "        vertical-align: top;\n",
       "    }\n",
       "\n",
       "    .dataframe thead th {\n",
       "        text-align: right;\n",
       "    }\n",
       "</style>\n",
       "<table border=\"1\" class=\"dataframe\">\n",
       "  <thead>\n",
       "    <tr style=\"text-align: right;\">\n",
       "      <th></th>\n",
       "      <th>feature</th>\n",
       "      <th>importance</th>\n",
       "    </tr>\n",
       "  </thead>\n",
       "  <tbody>\n",
       "    <tr>\n",
       "      <th>5</th>\n",
       "      <td>SalaryMean</td>\n",
       "      <td>0.246621</td>\n",
       "    </tr>\n",
       "    <tr>\n",
       "      <th>4</th>\n",
       "      <td>SalaryBonusMean</td>\n",
       "      <td>0.174913</td>\n",
       "    </tr>\n",
       "    <tr>\n",
       "      <th>7</th>\n",
       "      <td>ShiftRatio</td>\n",
       "      <td>0.124219</td>\n",
       "    </tr>\n",
       "    <tr>\n",
       "      <th>6</th>\n",
       "      <td>WorkOnRestDay</td>\n",
       "      <td>0.120744</td>\n",
       "    </tr>\n",
       "    <tr>\n",
       "      <th>8</th>\n",
       "      <td>WorkHourMean</td>\n",
       "      <td>0.056121</td>\n",
       "    </tr>\n",
       "    <tr>\n",
       "      <th>2</th>\n",
       "      <td>Turn</td>\n",
       "      <td>0.052299</td>\n",
       "    </tr>\n",
       "    <tr>\n",
       "      <th>25</th>\n",
       "      <td>OnBoardMonth_08</td>\n",
       "      <td>0.019533</td>\n",
       "    </tr>\n",
       "    <tr>\n",
       "      <th>30</th>\n",
       "      <td>OriRecruitCat_C</td>\n",
       "      <td>0.018175</td>\n",
       "    </tr>\n",
       "    <tr>\n",
       "      <th>3</th>\n",
       "      <td>DormAreaCount</td>\n",
       "      <td>0.017400</td>\n",
       "    </tr>\n",
       "    <tr>\n",
       "      <th>0</th>\n",
       "      <td>Gender</td>\n",
       "      <td>0.016409</td>\n",
       "    </tr>\n",
       "  </tbody>\n",
       "</table>\n",
       "</div>"
      ],
      "text/plain": [
       "            feature  importance\n",
       "5        SalaryMean    0.246621\n",
       "4   SalaryBonusMean    0.174913\n",
       "7        ShiftRatio    0.124219\n",
       "6     WorkOnRestDay    0.120744\n",
       "8      WorkHourMean    0.056121\n",
       "2              Turn    0.052299\n",
       "25  OnBoardMonth_08    0.019533\n",
       "30  OriRecruitCat_C    0.018175\n",
       "3     DormAreaCount    0.017400\n",
       "0            Gender    0.016409"
      ]
     },
     "execution_count": 109,
     "metadata": {},
     "output_type": "execute_result"
    }
   ],
   "source": [
    "df = {\n",
    "    \"feature\": rf.feature_names_in_,\n",
    "    \"importance\": rf.feature_importances_,\n",
    "}\n",
    "\n",
    "# table of feature importance\n",
    "feature_importance = pd.DataFrame(df).sort_values(by=[\"importance\"], ascending=False)\n",
    "pd.DataFrame(df).sort_values(by=[\"importance\"], ascending=False).head(10)"
   ]
  },
  {
   "cell_type": "code",
   "execution_count": 110,
   "id": "c979de4b",
   "metadata": {},
   "outputs": [],
   "source": [
    "topN = 10"
   ]
  },
  {
   "cell_type": "code",
   "execution_count": 111,
   "id": "9d15dc6c",
   "metadata": {},
   "outputs": [
    {
     "data": {
      "text/plain": [
       "Text(0.5, 1.0, 'Random Forest Feature Importance')"
      ]
     },
     "execution_count": 111,
     "metadata": {},
     "output_type": "execute_result"
    },
    {
     "data": {
      "image/png": "[encoded data removed]",
      "text/plain": [
       "<Figure size 432x288 with 1 Axes>"
      ]
     },
     "metadata": {
      "needs_background": "light"
     },
     "output_type": "display_data"
    }
   ],
   "source": [
    "# Plot the 10 most important features\n",
    "plt.figure()\n",
    "pd.Series(rf.feature_importances_, \n",
    "          rf.feature_names_in_).sort_values(ascending=True)[-topN:].plot.barh(width=0.5,\n",
    "                                                                              ax=plt.gca())\n",
    "\n",
    "plt.gca().set_title('Random Forest Feature Importance')"
   ]
  },
  {
   "cell_type": "markdown",
   "id": "d8672ef2",
   "metadata": {},
   "source": [
    "### Reform the X_train & X_test by Top_N features"
   ]
  },
  {
   "cell_type": "code",
   "execution_count": 113,
   "id": "d276edd9",
   "metadata": {},
   "outputs": [],
   "source": [
    "# use topN features to reform X_train and X_test\n",
    "x_train = x_train[list(feature_importance[\"feature\"][:topN])]\n",
    "x_test  =  x_test[list(feature_importance[\"feature\"][:topN])]"
   ]
  },
  {
   "cell_type": "markdown",
   "id": "fa5b7282",
   "metadata": {},
   "source": [
    "### Confusion Matrix & Performance Analysis"
   ]
  },
  {
   "cell_type": "code",
   "execution_count": 120,
   "id": "38c79a13",
   "metadata": {},
   "outputs": [
    {
     "name": "stdout",
     "output_type": "stream",
     "text": [
      "[[  211   589]\n",
      " [  152 10723]]\n"
     ]
    }
   ],
   "source": [
    "predictions = rf2.predict(x_test)\n",
    "print(confusion_matrix(y_test, predictions))"
   ]
  },
  {
   "cell_type": "code",
   "execution_count": 121,
   "id": "99c4b1f2",
   "metadata": {},
   "outputs": [],
   "source": [
    "tn = confusion_matrix(y_test, predictions)[0][0]\n",
    "fp = confusion_matrix(y_test, predictions)[0][1]\n",
    "fn = confusion_matrix(y_test, predictions)[1][0]\n",
    "tp = confusion_matrix(y_test, predictions)[1][1]"
   ]
  },
  {
   "cell_type": "code",
   "execution_count": 122,
   "id": "5de77ebc",
   "metadata": {},
   "outputs": [],
   "source": [
    "import sklearn.metrics\n",
    "\n",
    "acc =  round(sklearn.metrics.accuracy_score(y_test, predictions), 4)\n",
    "recall = round(sklearn.metrics.recall_score(y_test, predictions), 4)\n",
    "f_measure = round( sklearn.metrics.f1_score(y_test, predictions), 4)\n",
    "precision = round(sklearn.metrics.precision_score(y_test, predictions), 4)\n",
    "\n",
    "df = {\n",
    "    \"Performance\": [acc, recall, precision, f_measure]    \n",
    "}"
   ]
  },
  {
   "cell_type": "code",
   "execution_count": 123,
   "id": "f91e98be",
   "metadata": {},
   "outputs": [
    {
     "data": {
      "text/html": [
       "<div>\n",
       "<style scoped>\n",
       "    .dataframe tbody tr th:only-of-type {\n",
       "        vertical-align: middle;\n",
       "    }\n",
       "\n",
       "    .dataframe tbody tr th {\n",
       "        vertical-align: top;\n",
       "    }\n",
       "\n",
       "    .dataframe thead th {\n",
       "        text-align: right;\n",
       "    }\n",
       "</style>\n",
       "<table border=\"1\" class=\"dataframe\">\n",
       "  <thead>\n",
       "    <tr style=\"text-align: right;\">\n",
       "      <th></th>\n",
       "      <th>Performance</th>\n",
       "    </tr>\n",
       "  </thead>\n",
       "  <tbody>\n",
       "    <tr>\n",
       "      <th>Acc</th>\n",
       "      <td>0.936500</td>\n",
       "    </tr>\n",
       "    <tr>\n",
       "      <th>Recall</th>\n",
       "      <td>0.986000</td>\n",
       "    </tr>\n",
       "    <tr>\n",
       "      <th>Precision</th>\n",
       "      <td>0.947900</td>\n",
       "    </tr>\n",
       "    <tr>\n",
       "      <th>F1_Score</th>\n",
       "      <td>0.966600</td>\n",
       "    </tr>\n",
       "  </tbody>\n",
       "</table>\n",
       "</div>"
      ],
      "text/plain": [
       "           Performance\n",
       "Acc           0.936500\n",
       "Recall        0.986000\n",
       "Precision     0.947900\n",
       "F1_Score      0.966600"
      ]
     },
     "execution_count": 123,
     "metadata": {},
     "output_type": "execute_result"
    }
   ],
   "source": [
    "pd.DataFrame(df, index=[\"Acc\", \"Recall\", \"Precision\", \"F1_Score\"])"
   ]
  },
  {
   "cell_type": "markdown",
   "id": "0de9f820",
   "metadata": {},
   "source": [
    "### Other Algorithms"
   ]
  },
  {
   "cell_type": "markdown",
   "id": "bf030a4f",
   "metadata": {},
   "source": [
    "### [1. Logistic Regression](https://scikit-learn.org/stable/modules/generated/sklearn.linear_model.LogisticRegression.html)"
   ]
  },
  {
   "cell_type": "code",
   "execution_count": 124,
   "id": "2b31c355",
   "metadata": {},
   "outputs": [
    {
     "data": {
      "text/plain": [
       "LogisticRegression(max_iter=300, random_state=42, solver='liblinear')"
      ]
     },
     "execution_count": 124,
     "metadata": {},
     "output_type": "execute_result"
    }
   ],
   "source": [
    "from sklearn.linear_model import LogisticRegression\n",
    "\n",
    "logit_reg = LogisticRegression(max_iter=300,\n",
    "                               random_state=seed,\n",
    "                               solver='liblinear')\n",
    "\n",
    "logit_reg.fit(x_train, y_train)"
   ]
  },
  {
   "cell_type": "code",
   "execution_count": 125,
   "id": "31f9e87f",
   "metadata": {},
   "outputs": [
    {
     "name": "stdout",
     "output_type": "stream",
     "text": [
      "0.8855\n"
     ]
    }
   ],
   "source": [
    "logit_reg_prob = logit_reg.predict_proba(x_test)\n",
    "\n",
    "# Return the mean accuracy on the given test data and labels\n",
    "print(round(logit_reg.score(x_test, y_test), 4))"
   ]
  },
  {
   "cell_type": "code",
   "execution_count": 126,
   "id": "f21a4bfe",
   "metadata": {},
   "outputs": [
    {
     "data": {
      "text/plain": [
       "0.8226"
      ]
     },
     "execution_count": 126,
     "metadata": {},
     "output_type": "execute_result"
    }
   ],
   "source": [
    "# AUC\n",
    "round(sklearn.metrics.roc_auc_score(y_test, logit_reg_prob[::,1]), 4)"
   ]
  },
  {
   "cell_type": "markdown",
   "id": "0a30c031",
   "metadata": {},
   "source": [
    "### [2. Decision Tree](https://scikit-learn.org/stable/modules/tree.html)"
   ]
  },
  {
   "cell_type": "code",
   "execution_count": 127,
   "id": "a165b36e",
   "metadata": {},
   "outputs": [],
   "source": [
    "from sklearn.tree import DecisionTreeClassifier"
   ]
  },
  {
   "cell_type": "code",
   "execution_count": 128,
   "id": "963da8d4",
   "metadata": {},
   "outputs": [
    {
     "name": "stdout",
     "output_type": "stream",
     "text": [
      "0.9224\n"
     ]
    }
   ],
   "source": [
    "dt = DecisionTreeClassifier(random_state=42)\n",
    "dt.fit(x_train, y_train)\n",
    "\n",
    "dt_prob = dt.predict_proba(x_test)\n",
    "\n",
    "# Return the mean accuracy on the given test data and labels\n",
    "print(round(dt.score(x_test, y_test), 4))"
   ]
  },
  {
   "cell_type": "code",
   "execution_count": 129,
   "id": "ca8213b3",
   "metadata": {},
   "outputs": [
    {
     "data": {
      "text/plain": [
       "0.626"
      ]
     },
     "execution_count": 129,
     "metadata": {},
     "output_type": "execute_result"
    }
   ],
   "source": [
    "# AUC\n",
    "round(sklearn.metrics.roc_auc_score(y_test, dt_prob[::,1]), 4)"
   ]
  },
  {
   "cell_type": "markdown",
   "id": "88174c42",
   "metadata": {},
   "source": [
    "### [3. SVM](https://scikit-learn.org/stable/modules/generated/sklearn.svm.SVC.html)"
   ]
  },
  {
   "cell_type": "code",
   "execution_count": 130,
   "id": "d8681ae7",
   "metadata": {},
   "outputs": [],
   "source": [
    "from sklearn.svm import SVC\n",
    "from sklearn.pipeline import make_pipeline\n",
    "from sklearn.preprocessing import StandardScaler"
   ]
  },
  {
   "cell_type": "code",
   "execution_count": 131,
   "id": "ce562d59",
   "metadata": {},
   "outputs": [
    {
     "data": {
      "text/plain": [
       "Pipeline(steps=[('standardscaler', StandardScaler()),\n",
       "                ('svc', SVC(gamma='auto', probability=True, random_state=42))])"
      ]
     },
     "execution_count": 131,
     "metadata": {},
     "output_type": "execute_result"
    }
   ],
   "source": [
    "svc = make_pipeline(StandardScaler(),\n",
    "                    SVC(gamma='auto',\n",
    "                        kernel=\"rbf\",\n",
    "                        probability=True,\n",
    "                        random_state=seed))\n",
    "\n",
    "svc.fit(x_train, y_train)"
   ]
  },
  {
   "cell_type": "code",
   "execution_count": 132,
   "id": "71d4577b",
   "metadata": {},
   "outputs": [
    {
     "name": "stdout",
     "output_type": "stream",
     "text": [
      "0.9142\n"
     ]
    }
   ],
   "source": [
    "svc_prob = svc.predict_proba(x_test)\n",
    "\n",
    "# Return the mean accuracy on the given test data and labels\n",
    "print(round(svc.score(x_test, y_test), 4))"
   ]
  },
  {
   "cell_type": "code",
   "execution_count": 133,
   "id": "da18cf59",
   "metadata": {},
   "outputs": [
    {
     "data": {
      "text/plain": [
       "0.8428"
      ]
     },
     "execution_count": 133,
     "metadata": {},
     "output_type": "execute_result"
    }
   ],
   "source": [
    "# AUC\n",
    "round(sklearn.metrics.roc_auc_score(y_test, svc_prob[::,1]), 4)"
   ]
  },
  {
   "cell_type": "markdown",
   "id": "ba9e1e5a",
   "metadata": {},
   "source": [
    "### [4. KNN](https://scikit-learn.org/stable/modules/generated/sklearn.neighbors.KNeighborsClassifier.html)"
   ]
  },
  {
   "cell_type": "code",
   "execution_count": 134,
   "id": "402f875c",
   "metadata": {},
   "outputs": [
    {
     "data": {
      "text/plain": [
       "KNeighborsClassifier(n_neighbors=3)"
      ]
     },
     "execution_count": 134,
     "metadata": {},
     "output_type": "execute_result"
    }
   ],
   "source": [
    "from sklearn.neighbors import KNeighborsClassifier\n",
    "\n",
    "knn = KNeighborsClassifier(n_neighbors=3)\n",
    "knn.fit(x_train, y_train)"
   ]
  },
  {
   "cell_type": "code",
   "execution_count": 135,
   "id": "0c2407e4",
   "metadata": {},
   "outputs": [
    {
     "name": "stdout",
     "output_type": "stream",
     "text": [
      "0.8815\n"
     ]
    }
   ],
   "source": [
    "knn_prob = knn.predict_proba(x_test)\n",
    "\n",
    "# Return the mean accuracy on the given test data and labels\n",
    "print(round(knn.score(x_test, y_test), 4))"
   ]
  },
  {
   "cell_type": "code",
   "execution_count": 136,
   "id": "c8c74a0b",
   "metadata": {},
   "outputs": [
    {
     "data": {
      "text/plain": [
       "0.6982"
      ]
     },
     "execution_count": 136,
     "metadata": {},
     "output_type": "execute_result"
    }
   ],
   "source": [
    "# AUC\n",
    "round(sklearn.metrics.roc_auc_score(y_test, knn_prob[::,1]), 4)"
   ]
  },
  {
   "cell_type": "markdown",
   "id": "fc5a0d89",
   "metadata": {},
   "source": [
    "### [5. AdaBoost](https://scikit-learn.org/stable/modules/generated/sklearn.ensemble.AdaBoostClassifier.html)"
   ]
  },
  {
   "cell_type": "code",
   "execution_count": 137,
   "id": "7f071737",
   "metadata": {},
   "outputs": [],
   "source": [
    "from sklearn.ensemble import AdaBoostClassifier\n",
    "from sklearn.datasets import make_classification"
   ]
  },
  {
   "cell_type": "code",
   "execution_count": 138,
   "id": "11edb21b",
   "metadata": {},
   "outputs": [
    {
     "data": {
      "text/plain": [
       "AdaBoostClassifier(n_estimators=100, random_state=42)"
      ]
     },
     "execution_count": 138,
     "metadata": {},
     "output_type": "execute_result"
    }
   ],
   "source": [
    "ada = AdaBoostClassifier(n_estimators=100, \n",
    "                         random_state=seed)\n",
    "ada.fit(x_train, y_train)"
   ]
  },
  {
   "cell_type": "code",
   "execution_count": 139,
   "id": "b35feb38",
   "metadata": {},
   "outputs": [
    {
     "name": "stdout",
     "output_type": "stream",
     "text": [
      "0.916\n"
     ]
    }
   ],
   "source": [
    "ada_prob = ada.predict_proba(x_test)\n",
    "\n",
    "# Return the mean accuracy on the given test data and labels\n",
    "print(round(ada.score(x_test, y_test), 4))"
   ]
  },
  {
   "cell_type": "code",
   "execution_count": 140,
   "id": "509ff8b4",
   "metadata": {},
   "outputs": [
    {
     "data": {
      "text/plain": [
       "0.8611"
      ]
     },
     "execution_count": 140,
     "metadata": {},
     "output_type": "execute_result"
    }
   ],
   "source": [
    "# AUC\n",
    "round(sklearn.metrics.roc_auc_score(y_test, ada_prob[::,1]), 4)"
   ]
  },
  {
   "cell_type": "markdown",
   "id": "fda00248",
   "metadata": {},
   "source": [
    "### [6. Back Propagation](https://scikit-learn.org/stable/modules/neural_networks_supervised.html)"
   ]
  },
  {
   "cell_type": "code",
   "execution_count": 50,
   "id": "9eaf701d",
   "metadata": {},
   "outputs": [],
   "source": [
    "from sklearn.neural_network import MLPClassifier\n",
    "\n",
    "bp = MLPClassifier(solver='lbfgs', alpha=1e-5,\n",
    "                    hidden_layer_sizes=(5, 2), random_state=seed)"
   ]
  },
  {
   "cell_type": "code",
   "execution_count": 51,
   "id": "afc19ed4",
   "metadata": {},
   "outputs": [
    {
     "name": "stdout",
     "output_type": "stream",
     "text": [
      "0.8705\n"
     ]
    }
   ],
   "source": [
    "bp.fit(x_train, y_train)\n",
    "\n",
    "bp_prob = bp.predict_proba(x_test)\n",
    "\n",
    "# Return the mean accuracy on the given test data and labels\n",
    "print(round(bp.score(x_test, y_test), 4))"
   ]
  },
  {
   "cell_type": "code",
   "execution_count": null,
   "id": "62e431f1",
   "metadata": {},
   "outputs": [],
   "source": []
  },
  {
   "cell_type": "markdown",
   "id": "6fb77b35",
   "metadata": {},
   "source": [
    "### Model Evaluation\n",
    "### [Cross Validation](https://scikit-learn.org/stable/modules/generated/sklearn.model_selection.cross_validate.html)"
   ]
  },
  {
   "cell_type": "code",
   "execution_count": 141,
   "id": "6b084b16",
   "metadata": {},
   "outputs": [],
   "source": [
    "from sklearn.model_selection import cross_val_score, cross_val_predict, GridSearchCV, KFold\n",
    "\n",
    "# Split data into 5 fold\n",
    "kfold = KFold(n_splits=5, \n",
    "              shuffle =True, \n",
    "              random_state=seed)"
   ]
  },
  {
   "cell_type": "code",
   "execution_count": 142,
   "id": "c2ca3d13",
   "metadata": {},
   "outputs": [],
   "source": [
    "# Let's build different models to train with our data\n",
    "models = [\n",
    "    KNeighborsClassifier(n_neighbors=3),\n",
    "    AdaBoostClassifier(n_estimators=100),\n",
    "    LogisticRegression(solver='liblinear'),\n",
    "    DecisionTreeClassifier(random_state=seed),\n",
    "    SVC(kernel='rbf', gamma='auto', random_state=seed),\n",
    "    RandomForestClassifier(n_estimators=100, random_state=seed),\n",
    "    MLPClassifier(solver='lbfgs', alpha=1e-5, hidden_layer_sizes=(5, 2), random_state=seed),\n",
    "]"
   ]
  },
  {
   "cell_type": "code",
   "execution_count": 143,
   "id": "34cbe82c",
   "metadata": {
    "scrolled": true
   },
   "outputs": [
    {
     "name": "stderr",
     "output_type": "stream",
     "text": [
      "[Parallel(n_jobs=-1)]: Using backend LokyBackend with 8 concurrent workers.\n",
      "[Parallel(n_jobs=-1)]: Done   2 out of   5 | elapsed:    2.1s remaining:    3.2s\n",
      "[Parallel(n_jobs=-1)]: Done   5 out of   5 | elapsed:    2.2s remaining:    0.0s\n",
      "[Parallel(n_jobs=-1)]: Done   5 out of   5 | elapsed:    2.2s finished\n",
      "[Parallel(n_jobs=-1)]: Using backend LokyBackend with 8 concurrent workers.\n",
      "[Parallel(n_jobs=-1)]: Done   2 out of   5 | elapsed:    1.3s remaining:    2.1s\n",
      "[Parallel(n_jobs=-1)]: Done   5 out of   5 | elapsed:    2.0s remaining:    0.0s\n",
      "[Parallel(n_jobs=-1)]: Done   5 out of   5 | elapsed:    2.0s finished\n",
      "[Parallel(n_jobs=-1)]: Using backend LokyBackend with 8 concurrent workers.\n",
      "[Parallel(n_jobs=-1)]: Done   2 out of   5 | elapsed:    0.0s remaining:    0.0s\n",
      "[Parallel(n_jobs=-1)]: Done   5 out of   5 | elapsed:    0.0s remaining:    0.0s\n",
      "[Parallel(n_jobs=-1)]: Done   5 out of   5 | elapsed:    0.0s finished\n",
      "[Parallel(n_jobs=-1)]: Using backend LokyBackend with 8 concurrent workers.\n",
      "[Parallel(n_jobs=-1)]: Done   2 out of   5 | elapsed:    0.0s remaining:    0.1s\n",
      "[Parallel(n_jobs=-1)]: Done   5 out of   5 | elapsed:    0.0s remaining:    0.0s\n",
      "[Parallel(n_jobs=-1)]: Done   5 out of   5 | elapsed:    0.0s finished\n",
      "[Parallel(n_jobs=-1)]: Using backend LokyBackend with 8 concurrent workers.\n",
      "[Parallel(n_jobs=-1)]: Done   2 out of   5 | elapsed:    5.7s remaining:    8.6s\n",
      "[Parallel(n_jobs=-1)]: Done   5 out of   5 | elapsed:    5.9s remaining:    0.0s\n",
      "[Parallel(n_jobs=-1)]: Done   5 out of   5 | elapsed:    5.9s finished\n",
      "[Parallel(n_jobs=-1)]: Using backend LokyBackend with 8 concurrent workers.\n",
      "[Parallel(n_jobs=-1)]: Done   2 out of   5 | elapsed:    1.9s remaining:    2.9s\n",
      "[Parallel(n_jobs=-1)]: Done   5 out of   5 | elapsed:    1.9s remaining:    0.0s\n",
      "[Parallel(n_jobs=-1)]: Done   5 out of   5 | elapsed:    1.9s finished\n",
      "[Parallel(n_jobs=-1)]: Using backend LokyBackend with 8 concurrent workers.\n",
      "[Parallel(n_jobs=-1)]: Done   2 out of   5 | elapsed:    0.8s remaining:    1.3s\n",
      "[Parallel(n_jobs=-1)]: Done   5 out of   5 | elapsed:    0.9s remaining:    0.0s\n",
      "[Parallel(n_jobs=-1)]: Done   5 out of   5 | elapsed:    0.9s finished\n"
     ]
    }
   ],
   "source": [
    "# Validate each model using 5-fold cross validation\n",
    "mean = []\n",
    "\n",
    "for model in models:\n",
    "    result = cross_val_score(model, \n",
    "                             x_train, y_train, verbose=2,\n",
    "                             cv=kfold, scoring=\"accuracy\", n_jobs=-1) # using all processors\n",
    "    mean.append(result)"
   ]
  },
  {
   "cell_type": "code",
   "execution_count": 145,
   "id": "d69b6386",
   "metadata": {},
   "outputs": [
    {
     "data": {
      "image/png": "[encoded data removed]",
      "text/plain": [
       "<Figure size 576x288 with 1 Axes>"
      ]
     },
     "metadata": {
      "needs_background": "light"
     },
     "output_type": "display_data"
    }
   ],
   "source": [
    "import seaborn as sns\n",
    "\n",
    "classifiers=['KNN','Ada Boost', 'Logistic','Decision Tree', 'SVM', 'Random Forest', \"Back Propagation\"]\n",
    "\n",
    "plt.figure(figsize=(8, 4))\n",
    "\n",
    "for i in range(len(mean)):\n",
    "    sns.distplot(mean[i], hist=False, kde_kws={\"shade\": True})\n",
    "    \n",
    "plt.title(\"Distribution of each classifier's Accuracy\", fontsize=15)\n",
    "plt.legend(classifiers, loc='upper left')\n",
    "plt.xlabel(\"Accuracy\", labelpad=20)\n",
    "plt.yticks([])\n",
    "\n",
    "plt.show()"
   ]
  },
  {
   "cell_type": "markdown",
   "id": "5d802382",
   "metadata": {},
   "source": [
    "### ROC Curve"
   ]
  },
  {
   "cell_type": "code",
   "execution_count": 56,
   "id": "618566f9",
   "metadata": {},
   "outputs": [],
   "source": [
    "from sklearn.metrics import roc_curve"
   ]
  },
  {
   "cell_type": "code",
   "execution_count": 146,
   "id": "c7f7405e",
   "metadata": {},
   "outputs": [
    {
     "data": {
      "image/png": "[encoded data removed]",
      "text/plain": [
       "<Figure size 432x432 with 1 Axes>"
      ]
     },
     "metadata": {
      "needs_background": "light"
     },
     "output_type": "display_data"
    }
   ],
   "source": [
    "fig = plt.figure(figsize=(6, 6))\n",
    "\n",
    "# ROC\n",
    "plt.plot(*roc_curve(y_test, prob_final[:,1])[:2]) # ROC of WQRF\n",
    "plt.plot(*roc_curve(y_test,    bp_prob[:,1])[:2])\n",
    "plt.plot(*roc_curve(y_test,   svc_prob[:,1])[:2])\n",
    "plt.plot(*roc_curve(y_test,   ada_prob[:,1])[:2])\n",
    "plt.plot(*roc_curve(y_test,   knn_prob[:,1])[:2])\n",
    "plt.plot(*roc_curve(y_test, logit_reg_prob[:,1])[:2])\n",
    "\n",
    "# Legend & Position\n",
    "plt.legend([\"WQRF\", \"Back Propagation\", \"SVM Classifier\", \"Ada Boost\", \"KNN\", \"Logistic Regression\"], loc=\"lower right\")\n",
    "\n",
    "# Diagonal \n",
    "plt.plot((0., 1.), (0., 1.), \"--k\", alpha =.7)\n",
    "\n",
    "# Label\n",
    "plt.xlabel(\"False Positive Rate\", labelpad=20)\n",
    "plt.ylabel(\"True Positive Rate\",  labelpad=20)\n",
    "\n",
    "# Title\n",
    "plt.title(\"ROC Curves\", fontsize=10)\n",
    "plt.show()"
   ]
  },
  {
   "cell_type": "code",
   "execution_count": null,
   "id": "423a9b30",
   "metadata": {},
   "outputs": [],
   "source": []
  },
  {
   "cell_type": "code",
   "execution_count": null,
   "id": "ced3d615",
   "metadata": {},
   "outputs": [],
   "source": []
  }
 ],
 "metadata": {
  "kernelspec": {
   "display_name": "Python 3",
   "language": "python",
   "name": "python3"
  }, 
  "language_info": {
   "codemirror_mode": {
    "name": "ipython",
    "version": 3
   },
   "file_extension": ".py",
   "mimetype": "text/x-python",
   "name": "python",
   "nbconvert_exporter": "python",
   "pygments_lexer": "ipython3",
   "version": "3.8.8"
  }
 },
 "nbformat": 4,
 "nbformat_minor": 5
}
