{
 "cells": [
  {
   "cell_type": "markdown",
   "id": "0b578b21",
   "metadata": {},
   "source": [
    "## Sentiment Analysis of Restaurant Reviews"
   ]
  },
  {
   "cell_type": "code",
   "execution_count": 1,
   "id": "d191065a",
   "metadata": {},
   "outputs": [],
   "source": [
    "import warnings\n",
    "import pandas as pd\n",
    "warnings.simplefilter(\"ignore\")"
   ]
  },
  {
   "cell_type": "markdown",
   "id": "54a51152",
   "metadata": {},
   "source": [
    "### Data Preprocessing"
   ]
  },
  {
   "cell_type": "code",
   "execution_count": 2,
   "id": "c391d115",
   "metadata": {},
   "outputs": [],
   "source": [
    "test = pd.read_csv(\"test.csv\")"
   ]
  },
  {
   "cell_type": "code",
   "execution_count": 3,
   "id": "9be95809",
   "metadata": {},
   "outputs": [],
   "source": [
    "data = pd.read_csv(\"Reviews.csv\")[:10000][[\"Text\", \"Score\"]]"
   ]
  },
  {
   "cell_type": "code",
   "execution_count": 4,
   "id": "b8f395d6",
   "metadata": {},
   "outputs": [],
   "source": [
    "for i, d in enumerate(data[\"Score\"]):\n",
    "    if d >= 4:\n",
    "        data[\"Score\"][i] = 1\n",
    "    else:\n",
    "        data[\"Score\"][i] = 0"
   ]
  },
  {
   "cell_type": "code",
   "execution_count": 5,
   "id": "df53848b",
   "metadata": {},
   "outputs": [],
   "source": [
    "text_list = []\n",
    "text_list2 = []\n",
    "\n",
    "for d in data[\"Text\"]:\n",
    "    text_list.append(d)\n",
    "    \n",
    "for d in test[\"Text\"]:\n",
    "    text_list2.append(d)"
   ]
  },
  {
   "cell_type": "markdown",
   "id": "f5164b3c",
   "metadata": {},
   "source": [
    "### Tokenization"
   ]
  },
  {
   "cell_type": "code",
   "execution_count": 6,
   "id": "7c6d4035",
   "metadata": {},
   "outputs": [],
   "source": [
    "from keras.preprocessing import sequence\n",
    "from keras.preprocessing.text import Tokenizer"
   ]
  },
  {
   "cell_type": "code",
   "execution_count": 7,
   "id": "a68e03d7",
   "metadata": {},
   "outputs": [],
   "source": [
    "vocab_size = 3800\n",
    "token = Tokenizer(num_words=vocab_size) \n",
    "token.fit_on_texts(text_list)"
   ]
  },
  {
   "cell_type": "code",
   "execution_count": 8,
   "id": "391db624",
   "metadata": {},
   "outputs": [],
   "source": [
    "# token.word_index"
   ]
  },
  {
   "cell_type": "code",
   "execution_count": 9,
   "id": "70fa2a91",
   "metadata": {},
   "outputs": [],
   "source": [
    "x_train_seq = token.texts_to_sequences(text_list)\n",
    "x_test_seq = token.texts_to_sequences(text_list2)"
   ]
  },
  {
   "cell_type": "code",
   "execution_count": 10,
   "id": "d260a27c",
   "metadata": {
    "scrolled": true
   },
   "outputs": [],
   "source": [
    "maxlen = 380\n",
    "x_train = sequence.pad_sequences(x_train_seq, maxlen=maxlen)\n",
    "x_test  = sequence.pad_sequences(x_test_seq,  maxlen=maxlen)"
   ]
  },
  {
   "cell_type": "code",
   "execution_count": 11,
   "id": "cb95752a",
   "metadata": {},
   "outputs": [],
   "source": [
    "y_train = data[\"Score\"]"
   ]
  },
  {
   "cell_type": "markdown",
   "id": "8ec15318",
   "metadata": {},
   "source": [
    "### CNN Modeling"
   ]
  },
  {
   "cell_type": "code",
   "execution_count": 12,
   "id": "478f01c6",
   "metadata": {},
   "outputs": [],
   "source": [
    "from tensorflow.keras import layers\n",
    "from keras.models import Sequential\n",
    "from keras.layers import Conv1D, Dense, MaxPool1D, Flatten, Input, Dropout"
   ]
  },
  {
   "cell_type": "code",
   "execution_count": 13,
   "id": "f2ed1727",
   "metadata": {},
   "outputs": [
    {
     "data": {
      "text/plain": [
       "(10000, 380)"
      ]
     },
     "execution_count": 13,
     "metadata": {},
     "output_type": "execute_result"
    }
   ],
   "source": [
    "x_train.shape"
   ]
  },
  {
   "cell_type": "code",
   "execution_count": 14,
   "id": "c84997a7",
   "metadata": {},
   "outputs": [],
   "source": [
    "embedding_dim = 32\n",
    "\n",
    "model_CNN = Sequential()\n",
    "model_CNN.add(layers.Embedding(vocab_size, embedding_dim, input_length=maxlen))\n",
    "model_CNN.add(Dropout(0.7))\n",
    "model_CNN.add(layers.Conv1D(128, 5, activation='relu'))\n",
    "model_CNN.add(layers.GlobalMaxPooling1D())\n",
    "model_CNN.add(Dropout(0.7))\n",
    "model_CNN.add(layers.Dense(10, activation='relu'))\n",
    "model_CNN.add(layers.Dense(1, activation='sigmoid'))\n",
    "model_CNN.compile(optimizer='adam', loss='binary_crossentropy', metrics=['accuracy'])"
   ]
  },
  {
   "cell_type": "code",
   "execution_count": 15,
   "id": "13c9f226",
   "metadata": {},
   "outputs": [
    {
     "name": "stdout",
     "output_type": "stream",
     "text": [
      "Model: \"sequential\"\n",
      "_________________________________________________________________\n",
      " Layer (type)                Output Shape              Param #   \n",
      "=================================================================\n",
      " embedding (Embedding)       (None, 380, 32)           121600    \n",
      "                                                                 \n",
      " dropout (Dropout)           (None, 380, 32)           0         \n",
      "                                                                 \n",
      " conv1d (Conv1D)             (None, 376, 128)          20608     \n",
      "                                                                 \n",
      " global_max_pooling1d (Globa  (None, 128)              0         \n",
      " lMaxPooling1D)                                                  \n",
      "                                                                 \n",
      " dropout_1 (Dropout)         (None, 128)               0         \n",
      "                                                                 \n",
      " dense (Dense)               (None, 10)                1290      \n",
      "                                                                 \n",
      " dense_1 (Dense)             (None, 1)                 11        \n",
      "                                                                 \n",
      "=================================================================\n",
      "Total params: 143,509\n",
      "Trainable params: 143,509\n",
      "Non-trainable params: 0\n",
      "_________________________________________________________________\n"
     ]
    }
   ],
   "source": [
    "model_CNN.summary()"
   ]
  },
  {
   "cell_type": "code",
   "execution_count": 16,
   "id": "3e6d4e18",
   "metadata": {},
   "outputs": [
    {
     "name": "stdout",
     "output_type": "stream",
     "text": [
      "Epoch 1/10\n",
      "80/80 - 4s - loss: 0.5666 - accuracy: 0.7517 - val_loss: 0.5949 - val_accuracy: 0.7440 - 4s/epoch - 47ms/step\n",
      "Epoch 2/10\n",
      "80/80 - 3s - loss: 0.5410 - accuracy: 0.7660 - val_loss: 0.5868 - val_accuracy: 0.7440 - 3s/epoch - 41ms/step\n",
      "Epoch 3/10\n",
      "80/80 - 3s - loss: 0.5189 - accuracy: 0.7673 - val_loss: 0.5720 - val_accuracy: 0.7425 - 3s/epoch - 41ms/step\n",
      "Epoch 4/10\n",
      "80/80 - 3s - loss: 0.4911 - accuracy: 0.7648 - val_loss: 0.5342 - val_accuracy: 0.7575 - 3s/epoch - 42ms/step\n",
      "Epoch 5/10\n",
      "80/80 - 3s - loss: 0.4623 - accuracy: 0.7785 - val_loss: 0.4795 - val_accuracy: 0.7725 - 3s/epoch - 41ms/step\n",
      "Epoch 6/10\n",
      "80/80 - 3s - loss: 0.4142 - accuracy: 0.8064 - val_loss: 0.4433 - val_accuracy: 0.7880 - 3s/epoch - 42ms/step\n",
      "Epoch 7/10\n",
      "80/80 - 3s - loss: 0.3645 - accuracy: 0.8370 - val_loss: 0.4159 - val_accuracy: 0.8085 - 3s/epoch - 42ms/step\n",
      "Epoch 8/10\n",
      "80/80 - 3s - loss: 0.3536 - accuracy: 0.8400 - val_loss: 0.4137 - val_accuracy: 0.8130 - 3s/epoch - 42ms/step\n",
      "Epoch 9/10\n",
      "80/80 - 3s - loss: 0.3362 - accuracy: 0.8531 - val_loss: 0.4135 - val_accuracy: 0.8105 - 3s/epoch - 42ms/step\n",
      "Epoch 10/10\n",
      "80/80 - 3s - loss: 0.3202 - accuracy: 0.8606 - val_loss: 0.4070 - val_accuracy: 0.8175 - 3s/epoch - 42ms/step\n"
     ]
    }
   ],
   "source": [
    "history = model_CNN.fit(x_train, y_train,\n",
    "                        epochs=10,\n",
    "                        verbose=2,\n",
    "                        validation_split=0.2,\n",
    "                        batch_size=100)"
   ]
  },
  {
   "cell_type": "code",
   "execution_count": 17,
   "id": "e812c6f2",
   "metadata": {},
   "outputs": [],
   "source": [
    "import matplotlib.pyplot as plt"
   ]
  },
  {
   "cell_type": "code",
   "execution_count": 18,
   "id": "4e6de1cf",
   "metadata": {},
   "outputs": [],
   "source": [
    "def plot_history(history):\n",
    "    acc = history.history['accuracy']\n",
    "    val_acc = history.history['val_accuracy']\n",
    "    loss = history.history['loss']\n",
    "    val_loss = history.history['val_loss']\n",
    "    x = range(1, len(acc) + 1)\n",
    "\n",
    "    plt.figure(figsize=(12, 5))\n",
    "    plt.subplot(1, 2, 1)\n",
    "    plt.plot(x, acc, 'b', label='Training acc')\n",
    "    plt.plot(x, val_acc, 'r', label='Validation acc')\n",
    "    plt.title('Training and validation accuracy')\n",
    "    plt.legend()\n",
    "    plt.subplot(1, 2, 2)\n",
    "    plt.plot(x, loss, 'b', label='Training loss')\n",
    "    plt.plot(x, val_loss, 'r', label='Validation loss')\n",
    "    plt.title('Training and validation loss')\n",
    "    plt.legend()"
   ]
  },
  {
   "cell_type": "code",
   "execution_count": 19,
   "id": "b073eff7",
   "metadata": {},
   "outputs": [
    {
     "name": "stdout",
     "output_type": "stream",
     "text": [
      "Training Accuracy: 0.8785\n"
     ]
    },
    {
     "data": {
      "image/png": "[encoded data removed]",
      "text/plain": [
       "<Figure size 864x360 with 2 Axes>"
      ]
     },
     "metadata": {
      "needs_background": "light"
     },
     "output_type": "display_data"
    }
   ],
   "source": [
    "loss, accuracy = model_CNN.evaluate(x_train, y_train, verbose=False)\n",
    "print(\"Training Accuracy: {:.4f}\".format(accuracy))\n",
    "\n",
    "plot_history(history)"
   ]
  },
  {
   "cell_type": "code",
   "execution_count": 20,
   "id": "22d3d816",
   "metadata": {},
   "outputs": [],
   "source": [
    "prediction = model_CNN.predict(x_test)\n",
    "\n",
    "pred_list = []\n",
    "\n",
    "for p in prediction:\n",
    "    if p >= 0.8:\n",
    "        pred_list.append(1)\n",
    "    else:\n",
    "        pred_list.append(0)"
   ]
  },
  {
   "cell_type": "markdown",
   "id": "06b0bc8c",
   "metadata": {},
   "source": [
    "### LSTM"
   ]
  },
  {
   "cell_type": "code",
   "execution_count": 21,
   "id": "19a4b40e",
   "metadata": {},
   "outputs": [],
   "source": [
    "from keras.layers.recurrent import LSTM\n",
    "from keras.layers.embeddings import Embedding\n",
    "from keras.layers.core import Dense, Dropout, Activation, Flatten\n",
    "\n",
    "modelLSTM = Sequential()\n",
    "modelLSTM.add(Embedding(output_dim=32,  # vector of 32-D\n",
    "                        input_dim=3800, # length of dictionary\n",
    "                        input_length=380)) # num. of sentence list\n",
    "\n",
    "modelLSTM.add(Dropout(0.7))\n",
    "modelLSTM.add(LSTM(32))     # LSTM with 32 neuron\n",
    "modelLSTM.add(Dense(units=256,activation='relu'))  # hidden layer with 256 neuron\n",
    "modelLSTM.add(Dropout(0.7)) # to avoid overfitting\n",
    "modelLSTM.add(Dense(units=1,activation='sigmoid')) # output layer"
   ]
  },
  {
   "cell_type": "code",
   "execution_count": 22,
   "id": "9456e8c2",
   "metadata": {},
   "outputs": [
    {
     "name": "stdout",
     "output_type": "stream",
     "text": [
      "Model: \"sequential_1\"\n",
      "_________________________________________________________________\n",
      " Layer (type)                Output Shape              Param #   \n",
      "=================================================================\n",
      " embedding_1 (Embedding)     (None, 380, 32)           121600    \n",
      "                                                                 \n",
      " dropout_2 (Dropout)         (None, 380, 32)           0         \n",
      "                                                                 \n",
      " lstm (LSTM)                 (None, 32)                8320      \n",
      "                                                                 \n",
      " dense_2 (Dense)             (None, 256)               8448      \n",
      "                                                                 \n",
      " dropout_3 (Dropout)         (None, 256)               0         \n",
      "                                                                 \n",
      " dense_3 (Dense)             (None, 1)                 257       \n",
      "                                                                 \n",
      "=================================================================\n",
      "Total params: 138,625\n",
      "Trainable params: 138,625\n",
      "Non-trainable params: 0\n",
      "_________________________________________________________________\n"
     ]
    }
   ],
   "source": [
    "modelLSTM.summary()"
   ]
  },
  {
   "cell_type": "code",
   "execution_count": 23,
   "id": "9b7ce1fd",
   "metadata": {},
   "outputs": [
    {
     "name": "stdout",
     "output_type": "stream",
     "text": [
      "Epoch 1/10\n",
      "80/80 - 10s - loss: 0.5701 - accuracy: 0.7616 - val_loss: 0.5391 - val_accuracy: 0.7440 - 10s/epoch - 120ms/step\n",
      "Epoch 2/10\n",
      "80/80 - 8s - loss: 0.4298 - accuracy: 0.7970 - val_loss: 0.4254 - val_accuracy: 0.8025 - 8s/epoch - 105ms/step\n",
      "Epoch 3/10\n",
      "80/80 - 10s - loss: 0.3146 - accuracy: 0.8634 - val_loss: 0.3858 - val_accuracy: 0.8345 - 10s/epoch - 124ms/step\n",
      "Epoch 4/10\n",
      "80/80 - 11s - loss: 0.2649 - accuracy: 0.8901 - val_loss: 0.3837 - val_accuracy: 0.8385 - 11s/epoch - 133ms/step\n",
      "Epoch 5/10\n",
      "80/80 - 11s - loss: 0.2454 - accuracy: 0.9015 - val_loss: 0.4164 - val_accuracy: 0.8465 - 11s/epoch - 131ms/step\n",
      "Epoch 6/10\n",
      "80/80 - 11s - loss: 0.2124 - accuracy: 0.9141 - val_loss: 0.4654 - val_accuracy: 0.8395 - 11s/epoch - 133ms/step\n",
      "Epoch 7/10\n",
      "80/80 - 11s - loss: 0.1997 - accuracy: 0.9231 - val_loss: 0.4577 - val_accuracy: 0.8395 - 11s/epoch - 132ms/step\n",
      "Epoch 8/10\n",
      "80/80 - 11s - loss: 0.1834 - accuracy: 0.9294 - val_loss: 0.4195 - val_accuracy: 0.8450 - 11s/epoch - 131ms/step\n",
      "Epoch 9/10\n",
      "80/80 - 10s - loss: 0.1763 - accuracy: 0.9325 - val_loss: 0.5257 - val_accuracy: 0.8355 - 10s/epoch - 131ms/step\n",
      "Epoch 10/10\n",
      "80/80 - 11s - loss: 0.1716 - accuracy: 0.9359 - val_loss: 0.4945 - val_accuracy: 0.8380 - 11s/epoch - 132ms/step\n"
     ]
    }
   ],
   "source": [
    "modelLSTM.compile(loss='binary_crossentropy',\n",
    "                  optimizer='adam',\n",
    "                  metrics=['accuracy'])\n",
    "\n",
    "train_history = modelLSTM.fit(x_train, y_train,\n",
    "                              epochs=10, \n",
    "                              batch_size=100,\n",
    "                              verbose=2,\n",
    "                              validation_split=0.2)"
   ]
  },
  {
   "cell_type": "code",
   "execution_count": 24,
   "id": "703e0fac",
   "metadata": {},
   "outputs": [
    {
     "name": "stdout",
     "output_type": "stream",
     "text": [
      "Training Accuracy: 0.9362\n"
     ]
    },
    {
     "data": {
      "image/png": "[encoded data removed]",
      "text/plain": [
       "<Figure size 864x360 with 2 Axes>"
      ]
     },
     "metadata": {
      "needs_background": "light"
     },
     "output_type": "display_data"
    }
   ],
   "source": [
    "loss, accuracy = modelLSTM.evaluate(x_train, y_train, verbose=False)\n",
    "print(\"Training Accuracy: {:.4f}\".format(accuracy))\n",
    "\n",
    "plot_history(history)"
   ]
  },
  {
   "cell_type": "code",
   "execution_count": 25,
   "id": "19343a2d",
   "metadata": {},
   "outputs": [],
   "source": [
    "prediction = modelLSTM.predict(x_test)\n",
    "\n",
    "pred_list = []\n",
    "\n",
    "for p in prediction:\n",
    "    if p >= 0.8:\n",
    "        pred_list.append(1)\n",
    "    else:\n",
    "        pred_list.append(0)"
   ]
  },
  {
   "cell_type": "code",
   "execution_count": null,
   "id": "e805082d",
   "metadata": {},
   "outputs": [],
   "source": []
  },
  {
   "cell_type": "code",
   "execution_count": null,
   "id": "c735bd20",
   "metadata": {},
   "outputs": [],
   "source": []
  }
 ],
 "metadata": {
  "kernelspec": {
   "display_name": "Python 3",
   "language": "python",
   "name": "python3"
  },
  "language_info": {
   "codemirror_mode": {
    "name": "ipython",
    "version": 3
   },
   "file_extension": ".py",
   "mimetype": "text/x-python",
   "name": "python",
   "nbconvert_exporter": "python",
   "pygments_lexer": "ipython3",
   "version": "3.8.8"
  }
 },
 "nbformat": 4,
 "nbformat_minor": 5
}
