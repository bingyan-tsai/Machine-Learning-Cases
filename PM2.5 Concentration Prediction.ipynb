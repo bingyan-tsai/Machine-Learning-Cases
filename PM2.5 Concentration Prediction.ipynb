{
 "cells": [
  {
   "cell_type": "markdown",
   "id": "23fed610",
   "metadata": {},
   "source": [
    "## PM2.5 Concentration Prediction with Linear Regression & XGBoost"
   ]
  },
  {
   "cell_type": "code",
   "execution_count": 1,
   "id": "11b8ddb0",
   "metadata": {},
   "outputs": [],
   "source": [
    "import numpy as np\n",
    "import pandas as pd"
   ]
  },
  {
   "cell_type": "code",
   "execution_count": 2,
   "id": "4bcc66c0",
   "metadata": {},
   "outputs": [],
   "source": [
    "import warnings\n",
    "warnings.simplefilter(\"ignore\")"
   ]
  },
  {
   "cell_type": "code",
   "execution_count": 3,
   "id": "4592db4b",
   "metadata": {},
   "outputs": [],
   "source": [
    "data = pd.read_excel(\"data.xlsx\")"
   ]
  },
  {
   "cell_type": "markdown",
   "id": "5a5a60d8",
   "metadata": {},
   "source": [
    "### Data Preprocessing"
   ]
  },
  {
   "cell_type": "code",
   "execution_count": 4,
   "id": "0e3a04f9",
   "metadata": {},
   "outputs": [],
   "source": [
    "data = data[4914:]"
   ]
  },
  {
   "cell_type": "code",
   "execution_count": 5,
   "id": "ca978fb2",
   "metadata": {},
   "outputs": [],
   "source": [
    "# convert specific value to \"F\"\n",
    "\n",
    "labels = [\"*\", \"#\", \"x\", \"A\"]\n",
    "\n",
    "for time in range(0, 24):\n",
    "    for label in labels:\n",
    "        for index in data[data[time]==label].index:\n",
    "            data.loc[index, time] = \"F\""
   ]
  },
  {
   "cell_type": "code",
   "execution_count": 6,
   "id": "e6b471a8",
   "metadata": {},
   "outputs": [
    {
     "data": {
      "text/plain": [
       "(1656, 27)"
      ]
     },
     "execution_count": 6,
     "metadata": {},
     "output_type": "execute_result"
    }
   ],
   "source": [
    "data.shape"
   ]
  },
  {
   "cell_type": "code",
   "execution_count": 7,
   "id": "7850944f",
   "metadata": {},
   "outputs": [
    {
     "data": {
      "text/html": [
       "<div>\n",
       "<style scoped>\n",
       "    .dataframe tbody tr th:only-of-type {\n",
       "        vertical-align: middle;\n",
       "    }\n",
       "\n",
       "    .dataframe tbody tr th {\n",
       "        vertical-align: top;\n",
       "    }\n",
       "\n",
       "    .dataframe thead th {\n",
       "        text-align: right;\n",
       "    }\n",
       "</style>\n",
       "<table border=\"1\" class=\"dataframe\">\n",
       "  <thead>\n",
       "    <tr style=\"text-align: right;\">\n",
       "      <th></th>\n",
       "      <th>測站</th>\n",
       "      <th>日期</th>\n",
       "      <th>測項</th>\n",
       "      <th>0</th>\n",
       "      <th>1</th>\n",
       "      <th>2</th>\n",
       "      <th>3</th>\n",
       "      <th>4</th>\n",
       "      <th>5</th>\n",
       "      <th>6</th>\n",
       "      <th>...</th>\n",
       "      <th>14</th>\n",
       "      <th>15</th>\n",
       "      <th>16</th>\n",
       "      <th>17</th>\n",
       "      <th>18</th>\n",
       "      <th>19</th>\n",
       "      <th>20</th>\n",
       "      <th>21</th>\n",
       "      <th>22</th>\n",
       "      <th>23</th>\n",
       "    </tr>\n",
       "  </thead>\n",
       "  <tbody>\n",
       "    <tr>\n",
       "      <th>4914</th>\n",
       "      <td>新竹</td>\n",
       "      <td>2021-10-01</td>\n",
       "      <td>AMB_TEMP</td>\n",
       "      <td>28.3</td>\n",
       "      <td>28.3</td>\n",
       "      <td>27.8</td>\n",
       "      <td>27.8</td>\n",
       "      <td>27.6</td>\n",
       "      <td>27.6</td>\n",
       "      <td>27.7</td>\n",
       "      <td>...</td>\n",
       "      <td>31.6</td>\n",
       "      <td>31.4</td>\n",
       "      <td>30.9</td>\n",
       "      <td>30.5</td>\n",
       "      <td>30.2</td>\n",
       "      <td>29.8</td>\n",
       "      <td>29.4</td>\n",
       "      <td>29.1</td>\n",
       "      <td>28.7</td>\n",
       "      <td>28.2</td>\n",
       "    </tr>\n",
       "    <tr>\n",
       "      <th>4932</th>\n",
       "      <td>新竹</td>\n",
       "      <td>2021-10-02</td>\n",
       "      <td>AMB_TEMP</td>\n",
       "      <td>27.8</td>\n",
       "      <td>27.4</td>\n",
       "      <td>27.1</td>\n",
       "      <td>27</td>\n",
       "      <td>26.9</td>\n",
       "      <td>26.7</td>\n",
       "      <td>26.5</td>\n",
       "      <td>...</td>\n",
       "      <td>32.2</td>\n",
       "      <td>31.9</td>\n",
       "      <td>31.1</td>\n",
       "      <td>30.7</td>\n",
       "      <td>30</td>\n",
       "      <td>29.3</td>\n",
       "      <td>28.8</td>\n",
       "      <td>28.4</td>\n",
       "      <td>28.2</td>\n",
       "      <td>28</td>\n",
       "    </tr>\n",
       "    <tr>\n",
       "      <th>4950</th>\n",
       "      <td>新竹</td>\n",
       "      <td>2021-10-03</td>\n",
       "      <td>AMB_TEMP</td>\n",
       "      <td>27.8</td>\n",
       "      <td>27.7</td>\n",
       "      <td>27.6</td>\n",
       "      <td>27.2</td>\n",
       "      <td>27.5</td>\n",
       "      <td>27.1</td>\n",
       "      <td>26.9</td>\n",
       "      <td>...</td>\n",
       "      <td>33.9</td>\n",
       "      <td>34.1</td>\n",
       "      <td>33.4</td>\n",
       "      <td>32.5</td>\n",
       "      <td>31.8</td>\n",
       "      <td>31</td>\n",
       "      <td>30</td>\n",
       "      <td>30.2</td>\n",
       "      <td>29.6</td>\n",
       "      <td>28.4</td>\n",
       "    </tr>\n",
       "    <tr>\n",
       "      <th>4968</th>\n",
       "      <td>新竹</td>\n",
       "      <td>2021-10-04</td>\n",
       "      <td>AMB_TEMP</td>\n",
       "      <td>27.5</td>\n",
       "      <td>27.9</td>\n",
       "      <td>27.7</td>\n",
       "      <td>27</td>\n",
       "      <td>26.8</td>\n",
       "      <td>26.4</td>\n",
       "      <td>26.3</td>\n",
       "      <td>...</td>\n",
       "      <td>32.3</td>\n",
       "      <td>32</td>\n",
       "      <td>31.4</td>\n",
       "      <td>30.5</td>\n",
       "      <td>30.3</td>\n",
       "      <td>30.1</td>\n",
       "      <td>30</td>\n",
       "      <td>29.5</td>\n",
       "      <td>29.1</td>\n",
       "      <td>29</td>\n",
       "    </tr>\n",
       "    <tr>\n",
       "      <th>4986</th>\n",
       "      <td>新竹</td>\n",
       "      <td>2021-10-05</td>\n",
       "      <td>AMB_TEMP</td>\n",
       "      <td>28.8</td>\n",
       "      <td>28.8</td>\n",
       "      <td>28.7</td>\n",
       "      <td>28.7</td>\n",
       "      <td>28.7</td>\n",
       "      <td>28.7</td>\n",
       "      <td>28.7</td>\n",
       "      <td>...</td>\n",
       "      <td>35.1</td>\n",
       "      <td>34.2</td>\n",
       "      <td>33.2</td>\n",
       "      <td>32.5</td>\n",
       "      <td>31.2</td>\n",
       "      <td>30.6</td>\n",
       "      <td>30</td>\n",
       "      <td>29.5</td>\n",
       "      <td>29.4</td>\n",
       "      <td>29.7</td>\n",
       "    </tr>\n",
       "  </tbody>\n",
       "</table>\n",
       "<p>5 rows × 27 columns</p>\n",
       "</div>"
      ],
      "text/plain": [
       "      測站         日期        測項     0     1     2     3     4     5     6  ...  \\\n",
       "4914  新竹 2021-10-01  AMB_TEMP  28.3  28.3  27.8  27.8  27.6  27.6  27.7  ...   \n",
       "4932  新竹 2021-10-02  AMB_TEMP  27.8  27.4  27.1    27  26.9  26.7  26.5  ...   \n",
       "4950  新竹 2021-10-03  AMB_TEMP  27.8  27.7  27.6  27.2  27.5  27.1  26.9  ...   \n",
       "4968  新竹 2021-10-04  AMB_TEMP  27.5  27.9  27.7    27  26.8  26.4  26.3  ...   \n",
       "4986  新竹 2021-10-05  AMB_TEMP  28.8  28.8  28.7  28.7  28.7  28.7  28.7  ...   \n",
       "\n",
       "        14    15    16    17    18    19    20    21    22    23  \n",
       "4914  31.6  31.4  30.9  30.5  30.2  29.8  29.4  29.1  28.7  28.2  \n",
       "4932  32.2  31.9  31.1  30.7    30  29.3  28.8  28.4  28.2    28  \n",
       "4950  33.9  34.1  33.4  32.5  31.8    31    30  30.2  29.6  28.4  \n",
       "4968  32.3    32  31.4  30.5  30.3  30.1    30  29.5  29.1    29  \n",
       "4986  35.1  34.2  33.2  32.5  31.2  30.6    30  29.5  29.4  29.7  \n",
       "\n",
       "[5 rows x 27 columns]"
      ]
     },
     "execution_count": 7,
     "metadata": {},
     "output_type": "execute_result"
    }
   ],
   "source": [
    "data[data[\"測項\"]==\"AMB_TEMP\"].head()"
   ]
  },
  {
   "cell_type": "code",
   "execution_count": 8,
   "id": "a98dca0d",
   "metadata": {},
   "outputs": [],
   "source": [
    "time_list = []\n",
    "column_list = [] # for index of df\n",
    "\n",
    "for date in data[\"日期\"].unique():\n",
    "    time_list.append(str(date).split(\"T\")[0].replace(\"2021-\", \"\"))\n",
    "    \n",
    "for t in time_list:\n",
    "    for d in data.columns[3:]:\n",
    "        column_list.append(t+\"-\"+str(d))"
   ]
  },
  {
   "cell_type": "code",
   "execution_count": 9,
   "id": "5148ee91",
   "metadata": {},
   "outputs": [],
   "source": [
    "# 18 pollutions\n",
    "features = list(data[\"測項\"].unique())\n",
    "\n",
    "# create the dataframe first\n",
    "df = pd.DataFrame()\n",
    "\n",
    "for feature in features:\n",
    "    data_list = []\n",
    "    columns   = data[data[\"測項\"]==feature].transpose()[3:].columns\n",
    "\n",
    "    for column in columns:\n",
    "        for d in data[data[\"測項\"]==feature].transpose()[3:][column]:\n",
    "            data_list.append(d)\n",
    "\n",
    "    df[str(feature)] = data_list"
   ]
  },
  {
   "cell_type": "code",
   "execution_count": 10,
   "id": "4d344e96",
   "metadata": {},
   "outputs": [
    {
     "data": {
      "text/html": [
       "<div>\n",
       "<style scoped>\n",
       "    .dataframe tbody tr th:only-of-type {\n",
       "        vertical-align: middle;\n",
       "    }\n",
       "\n",
       "    .dataframe tbody tr th {\n",
       "        vertical-align: top;\n",
       "    }\n",
       "\n",
       "    .dataframe thead th {\n",
       "        text-align: right;\n",
       "    }\n",
       "</style>\n",
       "<table border=\"1\" class=\"dataframe\">\n",
       "  <thead>\n",
       "    <tr style=\"text-align: right;\">\n",
       "      <th></th>\n",
       "      <th>AMB_TEMP</th>\n",
       "      <th>CH4</th>\n",
       "      <th>CO</th>\n",
       "      <th>NMHC</th>\n",
       "      <th>NO</th>\n",
       "      <th>NO2</th>\n",
       "      <th>NOx</th>\n",
       "      <th>O3</th>\n",
       "      <th>PM10</th>\n",
       "      <th>PM2.5</th>\n",
       "      <th>RAINFALL</th>\n",
       "      <th>RH</th>\n",
       "      <th>SO2</th>\n",
       "      <th>THC</th>\n",
       "      <th>WD_HR</th>\n",
       "      <th>WIND_DIREC</th>\n",
       "      <th>WIND_SPEED</th>\n",
       "      <th>WS_HR</th>\n",
       "    </tr>\n",
       "  </thead>\n",
       "  <tbody>\n",
       "    <tr>\n",
       "      <th>0</th>\n",
       "      <td>28.3</td>\n",
       "      <td>2.04</td>\n",
       "      <td>0.34</td>\n",
       "      <td>0.17</td>\n",
       "      <td>0.9</td>\n",
       "      <td>18.8</td>\n",
       "      <td>19.8</td>\n",
       "      <td>16</td>\n",
       "      <td>28</td>\n",
       "      <td>28</td>\n",
       "      <td>0</td>\n",
       "      <td>71</td>\n",
       "      <td>1.8</td>\n",
       "      <td>2.21</td>\n",
       "      <td>62</td>\n",
       "      <td>33</td>\n",
       "      <td>0.8</td>\n",
       "      <td>0.7</td>\n",
       "    </tr>\n",
       "    <tr>\n",
       "      <th>1</th>\n",
       "      <td>28.3</td>\n",
       "      <td>2.02</td>\n",
       "      <td>0.3</td>\n",
       "      <td>0.13</td>\n",
       "      <td>0.2</td>\n",
       "      <td>11.9</td>\n",
       "      <td>12.2</td>\n",
       "      <td>21.5</td>\n",
       "      <td>24</td>\n",
       "      <td>22</td>\n",
       "      <td>0</td>\n",
       "      <td>66</td>\n",
       "      <td>1</td>\n",
       "      <td>2.15</td>\n",
       "      <td>121</td>\n",
       "      <td>183</td>\n",
       "      <td>1.2</td>\n",
       "      <td>0.6</td>\n",
       "    </tr>\n",
       "    <tr>\n",
       "      <th>2</th>\n",
       "      <td>27.8</td>\n",
       "      <td>2.12</td>\n",
       "      <td>0.3</td>\n",
       "      <td>0.12</td>\n",
       "      <td>0.5</td>\n",
       "      <td>15.1</td>\n",
       "      <td>15.6</td>\n",
       "      <td>16.9</td>\n",
       "      <td>29</td>\n",
       "      <td>26</td>\n",
       "      <td>0</td>\n",
       "      <td>76</td>\n",
       "      <td>1</td>\n",
       "      <td>2.24</td>\n",
       "      <td>164</td>\n",
       "      <td>160</td>\n",
       "      <td>1.1</td>\n",
       "      <td>0.6</td>\n",
       "    </tr>\n",
       "    <tr>\n",
       "      <th>3</th>\n",
       "      <td>27.8</td>\n",
       "      <td>2.18</td>\n",
       "      <td>0.29</td>\n",
       "      <td>0.14</td>\n",
       "      <td>0.4</td>\n",
       "      <td>12.8</td>\n",
       "      <td>13.2</td>\n",
       "      <td>16.4</td>\n",
       "      <td>32</td>\n",
       "      <td>24</td>\n",
       "      <td>0</td>\n",
       "      <td>79</td>\n",
       "      <td>1.3</td>\n",
       "      <td>2.32</td>\n",
       "      <td>156</td>\n",
       "      <td>151</td>\n",
       "      <td>0.6</td>\n",
       "      <td>0.4</td>\n",
       "    </tr>\n",
       "    <tr>\n",
       "      <th>4</th>\n",
       "      <td>27.6</td>\n",
       "      <td>2.19</td>\n",
       "      <td>0.3</td>\n",
       "      <td>0.17</td>\n",
       "      <td>0.2</td>\n",
       "      <td>14.9</td>\n",
       "      <td>15.1</td>\n",
       "      <td>12.6</td>\n",
       "      <td>31</td>\n",
       "      <td>28</td>\n",
       "      <td>0</td>\n",
       "      <td>81</td>\n",
       "      <td>1.5</td>\n",
       "      <td>2.36</td>\n",
       "      <td>110</td>\n",
       "      <td>90</td>\n",
       "      <td>0.9</td>\n",
       "      <td>0.5</td>\n",
       "    </tr>\n",
       "  </tbody>\n",
       "</table>\n",
       "</div>"
      ],
      "text/plain": [
       "  AMB_TEMP   CH4    CO  NMHC   NO   NO2   NOx    O3 PM10 PM2.5 RAINFALL  RH  \\\n",
       "0     28.3  2.04  0.34  0.17  0.9  18.8  19.8    16   28    28        0  71   \n",
       "1     28.3  2.02   0.3  0.13  0.2  11.9  12.2  21.5   24    22        0  66   \n",
       "2     27.8  2.12   0.3  0.12  0.5  15.1  15.6  16.9   29    26        0  76   \n",
       "3     27.8  2.18  0.29  0.14  0.4  12.8  13.2  16.4   32    24        0  79   \n",
       "4     27.6  2.19   0.3  0.17  0.2  14.9  15.1  12.6   31    28        0  81   \n",
       "\n",
       "   SO2   THC  WD_HR WIND_DIREC WIND_SPEED  WS_HR  \n",
       "0  1.8  2.21     62         33        0.8    0.7  \n",
       "1    1  2.15    121        183        1.2    0.6  \n",
       "2    1  2.24    164        160        1.1    0.6  \n",
       "3  1.3  2.32    156        151        0.6    0.4  \n",
       "4  1.5  2.36    110         90        0.9    0.5  "
      ]
     },
     "execution_count": 10,
     "metadata": {},
     "output_type": "execute_result"
    }
   ],
   "source": [
    "df.head()"
   ]
  },
  {
   "cell_type": "code",
   "execution_count": 11,
   "id": "34d3dbf4",
   "metadata": {},
   "outputs": [
    {
     "name": "stdout",
     "output_type": "stream",
     "text": [
      "['AMB_TEMP', 'CH4', 'CO', 'NMHC', 'NO', 'NO2', 'NOx', 'O3', 'PM10', 'PM2.5', 'RAINFALL', 'RH', 'SO2', 'THC', 'WD_HR', 'WIND_DIREC', 'WIND_SPEED', 'WS_HR']\n"
     ]
    }
   ],
   "source": [
    "print(features)"
   ]
  },
  {
   "cell_type": "code",
   "execution_count": 12,
   "id": "43005387",
   "metadata": {},
   "outputs": [],
   "source": [
    "import statistics"
   ]
  },
  {
   "cell_type": "code",
   "execution_count": 13,
   "id": "6373a759",
   "metadata": {},
   "outputs": [],
   "source": [
    "for feature in features:\n",
    "    for index in df[df[feature]==\"F\"].index:\n",
    "        if df.loc[index-1, feature] != \"F\" and df.loc[index+1, feature] != \"F\":\n",
    "            # 前後一小時的平均值\n",
    "            df.loc[index, feature] = (df.loc[index-1, feature]+df.loc[index+1, feature])/2\n",
    "            # 若前一小時=0\n",
    "        elif df.loc[index-2, feature] != \"F\" and df.loc[index+1, feature] != \"F\":\n",
    "            df.loc[index, feature] = (df.loc[index-2, feature]+df.loc[index+1, feature])/2\n",
    "            # 若前二小時=0\n",
    "        elif df.loc[index-3, feature] != \"F\" and df.loc[index+1, feature] != \"F\":\n",
    "            df.loc[index, feature] = (df.loc[index-3, feature]+df.loc[index+1, feature])/2\n",
    "        else:  \n",
    "            num_list = []\n",
    "            \n",
    "            for d in df.loc[:, feature]:\n",
    "                if type(d) == float:\n",
    "                    num_list.append(d)\n",
    "            mean = statistics.mean(num_list)\n",
    "            # 以平均填補\n",
    "            df.loc[index, feature] = mean"
   ]
  },
  {
   "cell_type": "code",
   "execution_count": 14,
   "id": "0ba78f5d",
   "metadata": {},
   "outputs": [],
   "source": [
    "df.index=column_list"
   ]
  },
  {
   "cell_type": "markdown",
   "id": "b9a96498",
   "metadata": {},
   "source": [
    "### Training and Test Sets: Splitting Data"
   ]
  },
  {
   "cell_type": "code",
   "execution_count": 15,
   "id": "b254ecc0",
   "metadata": {},
   "outputs": [],
   "source": [
    "training_data = df.loc[\"10-01-0\":\"11-30-23\", :]\n",
    "testing_data  = df.loc[\"12-01-0\":, :]"
   ]
  },
  {
   "cell_type": "code",
   "execution_count": 16,
   "id": "24d269da",
   "metadata": {},
   "outputs": [],
   "source": [
    "training_data = training_data.transpose()\n",
    "testing_data  =  testing_data.transpose()"
   ]
  },
  {
   "cell_type": "markdown",
   "id": "2f8ef182",
   "metadata": {},
   "source": [
    "### Predict the next 1 hours"
   ]
  },
  {
   "cell_type": "code",
   "execution_count": 17,
   "id": "d926866f",
   "metadata": {},
   "outputs": [],
   "source": [
    "training_data.columns = [x for x in range(0, 1464)]\n",
    "testing_data.columns  = [x for x in range(0,  744)]"
   ]
  },
  {
   "cell_type": "code",
   "execution_count": 18,
   "id": "12227a45",
   "metadata": {},
   "outputs": [
    {
     "data": {
      "text/plain": [
       "0    28\n",
       "1    22\n",
       "2    26\n",
       "3    24\n",
       "4    28\n",
       "5    20\n",
       "Name: PM2.5, dtype: object"
      ]
     },
     "execution_count": 18,
     "metadata": {},
     "output_type": "execute_result"
    }
   ],
   "source": [
    "training_data.loc[\"PM2.5\", 0:5]"
   ]
  },
  {
   "cell_type": "code",
   "execution_count": 19,
   "id": "92bf15ce",
   "metadata": {},
   "outputs": [],
   "source": [
    "x_train_1 = []\n",
    "y_train_1 = []\n",
    "\n",
    "for i in range(0, 1458):\n",
    "    x_train_1.append(training_data.loc[\"PM2.5\", i:i+5])\n",
    "    y_train_1.append(training_data.loc[\"PM2.5\",   i+6])"
   ]
  },
  {
   "cell_type": "code",
   "execution_count": 20,
   "id": "28be67f5",
   "metadata": {},
   "outputs": [
    {
     "name": "stdout",
     "output_type": "stream",
     "text": [
      "1458\n",
      "1458\n"
     ]
    }
   ],
   "source": [
    "print(len(x_train_1))\n",
    "print(len(y_train_1))"
   ]
  },
  {
   "cell_type": "code",
   "execution_count": 21,
   "id": "9142ccf5",
   "metadata": {},
   "outputs": [],
   "source": [
    "x_test_1 = []\n",
    "y_test_1 = []\n",
    "\n",
    "for i in range(0, 738):\n",
    "    x_test_1.append(testing_data.loc[\"PM2.5\", i:i+5])\n",
    "    y_test_1.append(testing_data.loc[\"PM2.5\",   i+6])"
   ]
  },
  {
   "cell_type": "code",
   "execution_count": 22,
   "id": "d63bd68e",
   "metadata": {},
   "outputs": [
    {
     "name": "stdout",
     "output_type": "stream",
     "text": [
      "738\n",
      "738\n"
     ]
    }
   ],
   "source": [
    "print(len(x_test_1))\n",
    "print(len(y_test_1))"
   ]
  },
  {
   "cell_type": "code",
   "execution_count": 23,
   "id": "f1c7f619",
   "metadata": {},
   "outputs": [],
   "source": [
    "x_train_6 = []\n",
    "y_train_6 = []\n",
    "\n",
    "for i in range(0, 1453):\n",
    "    x_train_6.append(training_data.loc[\"PM2.5\", i:i+ 5])\n",
    "    y_train_6.append(training_data.loc[\"PM2.5\",   i+11])"
   ]
  },
  {
   "cell_type": "code",
   "execution_count": 24,
   "id": "23f1d1b3",
   "metadata": {},
   "outputs": [
    {
     "name": "stdout",
     "output_type": "stream",
     "text": [
      "1453\n",
      "1453\n"
     ]
    }
   ],
   "source": [
    "print(len(x_train_6))\n",
    "print(len(y_train_6))"
   ]
  },
  {
   "cell_type": "code",
   "execution_count": 25,
   "id": "022c85f4",
   "metadata": {},
   "outputs": [],
   "source": [
    "x_test_6 = []\n",
    "y_test_6 = []\n",
    "\n",
    "for i in range(0, 733):\n",
    "    x_test_6.append(testing_data.loc[\"PM2.5\", i:i+ 5])\n",
    "    y_test_6.append(testing_data.loc[\"PM2.5\",   i+11])"
   ]
  },
  {
   "cell_type": "code",
   "execution_count": 26,
   "id": "f1ed95b3",
   "metadata": {},
   "outputs": [
    {
     "name": "stdout",
     "output_type": "stream",
     "text": [
      "733\n",
      "733\n"
     ]
    }
   ],
   "source": [
    "print(len(x_test_6))\n",
    "print(len(y_test_6))"
   ]
  },
  {
   "cell_type": "code",
   "execution_count": 27,
   "id": "59cb276f",
   "metadata": {},
   "outputs": [],
   "source": [
    "x_train_1_all_features = []\n",
    "\n",
    "for i in range(0, 1458):\n",
    "    x_train_1_all_features.append(training_data.loc[:, i:i+5].transpose())"
   ]
  },
  {
   "cell_type": "code",
   "execution_count": 28,
   "id": "575277fa",
   "metadata": {},
   "outputs": [],
   "source": [
    "x_train_6_all_features = []\n",
    "\n",
    "for i in range(0, 1453):\n",
    "    x_train_6_all_features.append(training_data.loc[:, i:i+5].transpose())"
   ]
  },
  {
   "cell_type": "code",
   "execution_count": 29,
   "id": "34c08789",
   "metadata": {},
   "outputs": [
    {
     "name": "stdout",
     "output_type": "stream",
     "text": [
      "(6, 18)\n",
      "(6, 18)\n"
     ]
    }
   ],
   "source": [
    "print(x_train_1_all_features[0].shape)\n",
    "print(x_train_6_all_features[0].shape)"
   ]
  },
  {
   "cell_type": "code",
   "execution_count": 30,
   "id": "53a542c9",
   "metadata": {},
   "outputs": [],
   "source": [
    "x_test_1_all_features = []\n",
    "\n",
    "for i in range(0, 738):\n",
    "    x_test_1_all_features.append(testing_data.loc[:, i:i+5].transpose())"
   ]
  },
  {
   "cell_type": "code",
   "execution_count": 31,
   "id": "0cb2cee4",
   "metadata": {},
   "outputs": [
    {
     "data": {
      "text/html": [
       "<div>\n",
       "<style scoped>\n",
       "    .dataframe tbody tr th:only-of-type {\n",
       "        vertical-align: middle;\n",
       "    }\n",
       "\n",
       "    .dataframe tbody tr th {\n",
       "        vertical-align: top;\n",
       "    }\n",
       "\n",
       "    .dataframe thead th {\n",
       "        text-align: right;\n",
       "    }\n",
       "</style>\n",
       "<table border=\"1\" class=\"dataframe\">\n",
       "  <thead>\n",
       "    <tr style=\"text-align: right;\">\n",
       "      <th></th>\n",
       "      <th>AMB_TEMP</th>\n",
       "      <th>CH4</th>\n",
       "      <th>CO</th>\n",
       "      <th>NMHC</th>\n",
       "      <th>NO</th>\n",
       "      <th>NO2</th>\n",
       "      <th>NOx</th>\n",
       "      <th>O3</th>\n",
       "      <th>PM10</th>\n",
       "      <th>PM2.5</th>\n",
       "      <th>RAINFALL</th>\n",
       "      <th>RH</th>\n",
       "      <th>SO2</th>\n",
       "      <th>THC</th>\n",
       "      <th>WD_HR</th>\n",
       "      <th>WIND_DIREC</th>\n",
       "      <th>WIND_SPEED</th>\n",
       "      <th>WS_HR</th>\n",
       "    </tr>\n",
       "  </thead>\n",
       "  <tbody>\n",
       "    <tr>\n",
       "      <th>0</th>\n",
       "      <td>17.8</td>\n",
       "      <td>2.04</td>\n",
       "      <td>0.3</td>\n",
       "      <td>0.05</td>\n",
       "      <td>0.8</td>\n",
       "      <td>6.2</td>\n",
       "      <td>7</td>\n",
       "      <td>33.2</td>\n",
       "      <td>47</td>\n",
       "      <td>22</td>\n",
       "      <td>0</td>\n",
       "      <td>49</td>\n",
       "      <td>1.9</td>\n",
       "      <td>2.09</td>\n",
       "      <td>57</td>\n",
       "      <td>52</td>\n",
       "      <td>4.5</td>\n",
       "      <td>4.1</td>\n",
       "    </tr>\n",
       "    <tr>\n",
       "      <th>1</th>\n",
       "      <td>17.2</td>\n",
       "      <td>2.04</td>\n",
       "      <td>0.29</td>\n",
       "      <td>0.06</td>\n",
       "      <td>0.4</td>\n",
       "      <td>6.6</td>\n",
       "      <td>7</td>\n",
       "      <td>31.2</td>\n",
       "      <td>48</td>\n",
       "      <td>26</td>\n",
       "      <td>0</td>\n",
       "      <td>48</td>\n",
       "      <td>1.1</td>\n",
       "      <td>2.1</td>\n",
       "      <td>57</td>\n",
       "      <td>58</td>\n",
       "      <td>5.9</td>\n",
       "      <td>4.3</td>\n",
       "    </tr>\n",
       "    <tr>\n",
       "      <th>2</th>\n",
       "      <td>16.7</td>\n",
       "      <td>2.04</td>\n",
       "      <td>0.28</td>\n",
       "      <td>0.04</td>\n",
       "      <td>0.4</td>\n",
       "      <td>6</td>\n",
       "      <td>6.4</td>\n",
       "      <td>30.8</td>\n",
       "      <td>47</td>\n",
       "      <td>24</td>\n",
       "      <td>0</td>\n",
       "      <td>47</td>\n",
       "      <td>1.1</td>\n",
       "      <td>2.08</td>\n",
       "      <td>58</td>\n",
       "      <td>57</td>\n",
       "      <td>4.8</td>\n",
       "      <td>4.1</td>\n",
       "    </tr>\n",
       "    <tr>\n",
       "      <th>3</th>\n",
       "      <td>16.3</td>\n",
       "      <td>2.04</td>\n",
       "      <td>0.27</td>\n",
       "      <td>0.03</td>\n",
       "      <td>0.3</td>\n",
       "      <td>5.6</td>\n",
       "      <td>5.9</td>\n",
       "      <td>32.8</td>\n",
       "      <td>45</td>\n",
       "      <td>23</td>\n",
       "      <td>0</td>\n",
       "      <td>46</td>\n",
       "      <td>1.2</td>\n",
       "      <td>2.07</td>\n",
       "      <td>56</td>\n",
       "      <td>51</td>\n",
       "      <td>4.6</td>\n",
       "      <td>4.2</td>\n",
       "    </tr>\n",
       "    <tr>\n",
       "      <th>4</th>\n",
       "      <td>15.9</td>\n",
       "      <td>2.03</td>\n",
       "      <td>0.26</td>\n",
       "      <td>0.05</td>\n",
       "      <td>0.3</td>\n",
       "      <td>5.7</td>\n",
       "      <td>6.1</td>\n",
       "      <td>33</td>\n",
       "      <td>42</td>\n",
       "      <td>17</td>\n",
       "      <td>0</td>\n",
       "      <td>44</td>\n",
       "      <td>1.5</td>\n",
       "      <td>2.08</td>\n",
       "      <td>49</td>\n",
       "      <td>40</td>\n",
       "      <td>4.5</td>\n",
       "      <td>3.8</td>\n",
       "    </tr>\n",
       "    <tr>\n",
       "      <th>5</th>\n",
       "      <td>15.5</td>\n",
       "      <td>2.03</td>\n",
       "      <td>0.27</td>\n",
       "      <td>0.05</td>\n",
       "      <td>0.3</td>\n",
       "      <td>6.6</td>\n",
       "      <td>7</td>\n",
       "      <td>30.5</td>\n",
       "      <td>41</td>\n",
       "      <td>22</td>\n",
       "      <td>0</td>\n",
       "      <td>47</td>\n",
       "      <td>1.6</td>\n",
       "      <td>2.08</td>\n",
       "      <td>56</td>\n",
       "      <td>59</td>\n",
       "      <td>3.9</td>\n",
       "      <td>3.7</td>\n",
       "    </tr>\n",
       "  </tbody>\n",
       "</table>\n",
       "</div>"
      ],
      "text/plain": [
       "  AMB_TEMP   CH4    CO  NMHC   NO  NO2  NOx    O3 PM10 PM2.5 RAINFALL  RH  \\\n",
       "0     17.8  2.04   0.3  0.05  0.8  6.2    7  33.2   47    22        0  49   \n",
       "1     17.2  2.04  0.29  0.06  0.4  6.6    7  31.2   48    26        0  48   \n",
       "2     16.7  2.04  0.28  0.04  0.4    6  6.4  30.8   47    24        0  47   \n",
       "3     16.3  2.04  0.27  0.03  0.3  5.6  5.9  32.8   45    23        0  46   \n",
       "4     15.9  2.03  0.26  0.05  0.3  5.7  6.1    33   42    17        0  44   \n",
       "5     15.5  2.03  0.27  0.05  0.3  6.6    7  30.5   41    22        0  47   \n",
       "\n",
       "   SO2   THC WD_HR WIND_DIREC WIND_SPEED WS_HR  \n",
       "0  1.9  2.09    57         52        4.5   4.1  \n",
       "1  1.1   2.1    57         58        5.9   4.3  \n",
       "2  1.1  2.08    58         57        4.8   4.1  \n",
       "3  1.2  2.07    56         51        4.6   4.2  \n",
       "4  1.5  2.08    49         40        4.5   3.8  \n",
       "5  1.6  2.08    56         59        3.9   3.7  "
      ]
     },
     "execution_count": 31,
     "metadata": {},
     "output_type": "execute_result"
    }
   ],
   "source": [
    "x_test_1_all_features[0]"
   ]
  },
  {
   "cell_type": "code",
   "execution_count": 32,
   "id": "27612dae",
   "metadata": {},
   "outputs": [],
   "source": [
    "x_test_6_all_features = []\n",
    "\n",
    "for i in range(0, 733):\n",
    "    x_test_6_all_features.append(testing_data.loc[:, i:i+5].transpose())"
   ]
  },
  {
   "cell_type": "code",
   "execution_count": 33,
   "id": "c32ead09",
   "metadata": {},
   "outputs": [
    {
     "name": "stdout",
     "output_type": "stream",
     "text": [
      "(6, 18)\n",
      "(6, 18)\n"
     ]
    }
   ],
   "source": [
    "print(x_test_1_all_features[0].shape)\n",
    "print(x_test_6_all_features[0].shape)"
   ]
  },
  {
   "cell_type": "markdown",
   "id": "0bfc953d",
   "metadata": {},
   "source": [
    "### Use Linear Regression to predict the next 1 hours"
   ]
  },
  {
   "cell_type": "code",
   "execution_count": 34,
   "id": "f9240323",
   "metadata": {},
   "outputs": [
    {
     "data": {
      "text/plain": [
       "0.6934301453772909"
      ]
     },
     "execution_count": 34,
     "metadata": {},
     "output_type": "execute_result"
    }
   ],
   "source": [
    "from sklearn.linear_model import LinearRegression\n",
    "from sklearn.metrics import mean_absolute_error, mean_squared_error\n",
    "\n",
    "# create an instance of Linear Regression\n",
    "lin_reg = LinearRegression()\n",
    "\n",
    "# use X and Y to fit the Regression Model\n",
    "lin_reg.fit(x_train_1, y_train_1)\n",
    "lin_reg.score(x_train_1, y_train_1)"
   ]
  },
  {
   "cell_type": "code",
   "execution_count": 35,
   "id": "e759e918",
   "metadata": {},
   "outputs": [
    {
     "name": "stdout",
     "output_type": "stream",
     "text": [
      "MSE: 13.0626\n",
      "MAE: 2.5907\n"
     ]
    }
   ],
   "source": [
    "y_pred = lin_reg.predict(x_train_1)\n",
    "\n",
    "# MSE & MAE\n",
    "mse = mean_squared_error(y_train_1, y_pred)\n",
    "mae = mean_absolute_error(y_train_1, y_pred)\n",
    "\n",
    "print(f\"MSE: {round(mse, 4)}\")\n",
    "print(f\"MAE: {round(mae, 4)}\")"
   ]
  },
  {
   "cell_type": "code",
   "execution_count": 36,
   "id": "afc56692",
   "metadata": {},
   "outputs": [
    {
     "name": "stdout",
     "output_type": "stream",
     "text": [
      "MSE: 14.1514\n",
      "MAE: 2.6772\n"
     ]
    }
   ],
   "source": [
    "y_pred = lin_reg.predict(x_test_1)\n",
    "\n",
    "# MSE & MAE\n",
    "mse = mean_squared_error(y_test_1, y_pred)\n",
    "mae = mean_absolute_error(y_test_1, y_pred)\n",
    "\n",
    "print(f\"MSE: {round(mse, 4)}\")\n",
    "print(f\"MAE: {round(mae, 4)}\")"
   ]
  },
  {
   "cell_type": "markdown",
   "id": "52cf331c",
   "metadata": {},
   "source": [
    "### Use XGBoost to predict the next 1 hours"
   ]
  },
  {
   "cell_type": "code",
   "execution_count": 37,
   "id": "e1bfc069",
   "metadata": {},
   "outputs": [],
   "source": [
    "# !pip install xgboost"
   ]
  },
  {
   "cell_type": "code",
   "execution_count": 38,
   "id": "4718e719",
   "metadata": {},
   "outputs": [
    {
     "data": {
      "text/plain": [
       "XGBRegressor(base_score=0.5, booster='gbtree', callbacks=None,\n",
       "             colsample_bylevel=1, colsample_bynode=1, colsample_bytree=1,\n",
       "             early_stopping_rounds=None, enable_categorical=False,\n",
       "             eval_metric=None, gamma=0, gpu_id=-1, grow_policy='depthwise',\n",
       "             importance_type=None, interaction_constraints='',\n",
       "             learning_rate=0.300000012, max_bin=256, max_cat_to_onehot=4,\n",
       "             max_delta_step=0, max_depth=6, max_leaves=0, min_child_weight=1,\n",
       "             missing=nan, monotone_constraints='()', n_estimators=100, n_jobs=0,\n",
       "             num_parallel_tree=1, predictor='auto', random_state=42,\n",
       "             reg_alpha=0, reg_lambda=1, ...)"
      ]
     },
     "execution_count": 38,
     "metadata": {},
     "output_type": "execute_result"
    }
   ],
   "source": [
    "import xgboost as xgb\n",
    "\n",
    "# reg:linear >> reg:squarederror\n",
    "xgb_model = xgb.XGBRegressor(objective=\"reg:squarederror\", random_state=42)\n",
    "\n",
    "xgb_model.fit(x_train_1, y_train_1)"
   ]
  },
  {
   "cell_type": "code",
   "execution_count": 39,
   "id": "4183ad32",
   "metadata": {},
   "outputs": [
    {
     "name": "stdout",
     "output_type": "stream",
     "text": [
      "MSE: 1.0838\n",
      "MAE: 0.6838\n"
     ]
    }
   ],
   "source": [
    "y_pred = xgb_model.predict(x_train_1)\n",
    "\n",
    "# MSE & MAE\n",
    "mse = mean_squared_error(y_train_1, y_pred)\n",
    "mae = mean_absolute_error(y_train_1, y_pred)\n",
    "\n",
    "print(f\"MSE: {round(mse, 4)}\")\n",
    "print(f\"MAE: {round(mae, 4)}\")"
   ]
  },
  {
   "cell_type": "code",
   "execution_count": 40,
   "id": "fcdb614e",
   "metadata": {},
   "outputs": [
    {
     "name": "stdout",
     "output_type": "stream",
     "text": [
      "MSE: 17.0863\n",
      "MAE: 3.0722\n"
     ]
    }
   ],
   "source": [
    "y_pred = xgb_model.predict(x_test_1)\n",
    "\n",
    "# MSE & MAE\n",
    "mse = mean_squared_error(y_test_1, y_pred)\n",
    "mae = mean_absolute_error(y_test_1, y_pred)\n",
    "\n",
    "print(f\"MSE: {round(mse, 4)}\")\n",
    "print(f\"MAE: {round(mae, 4)}\")"
   ]
  },
  {
   "cell_type": "markdown",
   "id": "972a360b",
   "metadata": {},
   "source": [
    "### Use Linear Regression to predict the next 6 hours"
   ]
  },
  {
   "cell_type": "code",
   "execution_count": 41,
   "id": "1d2a963a",
   "metadata": {},
   "outputs": [
    {
     "data": {
      "text/plain": [
       "0.2960413032430438"
      ]
     },
     "execution_count": 41,
     "metadata": {},
     "output_type": "execute_result"
    }
   ],
   "source": [
    "lin_reg = LinearRegression()\n",
    "\n",
    "lin_reg.fit(x_train_6, y_train_6)\n",
    "lin_reg.score(x_train_6, y_train_6)"
   ]
  },
  {
   "cell_type": "code",
   "execution_count": 42,
   "id": "4f7d428d",
   "metadata": {},
   "outputs": [
    {
     "name": "stdout",
     "output_type": "stream",
     "text": [
      "MSE: 29.1138\n",
      "MAE: 3.8815\n"
     ]
    }
   ],
   "source": [
    "y_pred = lin_reg.predict(x_train_6)\n",
    "\n",
    "# MSE & MAE\n",
    "mse = mean_squared_error(y_train_6, y_pred)\n",
    "mae = mean_absolute_error(y_train_6, y_pred)\n",
    "\n",
    "print(f\"MSE: {round(mse, 4)}\")\n",
    "print(f\"MAE: {round(mae, 4)}\")"
   ]
  },
  {
   "cell_type": "code",
   "execution_count": 43,
   "id": "0bf6ca71",
   "metadata": {},
   "outputs": [
    {
     "name": "stdout",
     "output_type": "stream",
     "text": [
      "MSE: 40.6797\n",
      "MAE: 4.3067\n"
     ]
    }
   ],
   "source": [
    "y_pred = lin_reg.predict(x_test_6)\n",
    "\n",
    "# MSE & MAE\n",
    "mse = mean_squared_error(y_test_6, y_pred)\n",
    "mae = mean_absolute_error(y_test_6, y_pred)\n",
    "\n",
    "print(f\"MSE: {round(mse, 4)}\")\n",
    "print(f\"MAE: {round(mae, 4)}\")"
   ]
  },
  {
   "cell_type": "markdown",
   "id": "bf18d9e5",
   "metadata": {},
   "source": [
    "### Use XGBoost to predict the next 6 hours"
   ]
  },
  {
   "cell_type": "code",
   "execution_count": 44,
   "id": "724810c0",
   "metadata": {},
   "outputs": [
    {
     "data": {
      "text/plain": [
       "XGBRegressor(base_score=0.5, booster='gbtree', callbacks=None,\n",
       "             colsample_bylevel=1, colsample_bynode=1, colsample_bytree=1,\n",
       "             early_stopping_rounds=None, enable_categorical=False,\n",
       "             eval_metric=None, gamma=0, gpu_id=-1, grow_policy='depthwise',\n",
       "             importance_type=None, interaction_constraints='',\n",
       "             learning_rate=0.300000012, max_bin=256, max_cat_to_onehot=4,\n",
       "             max_delta_step=0, max_depth=6, max_leaves=0, min_child_weight=1,\n",
       "             missing=nan, monotone_constraints='()', n_estimators=100, n_jobs=0,\n",
       "             num_parallel_tree=1, predictor='auto', random_state=42,\n",
       "             reg_alpha=0, reg_lambda=1, ...)"
      ]
     },
     "execution_count": 44,
     "metadata": {},
     "output_type": "execute_result"
    }
   ],
   "source": [
    "xgb_model = xgb.XGBRegressor(objective=\"reg:squarederror\", random_state=42)\n",
    "\n",
    "xgb_model.fit(x_train_6, y_train_6)"
   ]
  },
  {
   "cell_type": "code",
   "execution_count": 45,
   "id": "9b3ed398",
   "metadata": {},
   "outputs": [
    {
     "name": "stdout",
     "output_type": "stream",
     "text": [
      "MSE: 2.3765\n",
      "MAE: 1.007\n"
     ]
    }
   ],
   "source": [
    "y_pred = xgb_model.predict(x_train_6)\n",
    "\n",
    "# MSE & MAE\n",
    "mse = mean_squared_error(y_train_6, y_pred)\n",
    "mae = mean_absolute_error(y_train_6, y_pred)\n",
    "\n",
    "print(f\"MSE: {round(mse, 4)}\")\n",
    "print(f\"MAE: {round(mae, 4)}\")"
   ]
  },
  {
   "cell_type": "code",
   "execution_count": 46,
   "id": "256c71af",
   "metadata": {},
   "outputs": [
    {
     "name": "stdout",
     "output_type": "stream",
     "text": [
      "MSE: 49.9791\n",
      "MAE: 4.9842\n"
     ]
    }
   ],
   "source": [
    "y_pred = xgb_model.predict(x_test_6)\n",
    "\n",
    "# MSE & MAE\n",
    "mse = mean_squared_error(y_test_6, y_pred)\n",
    "mae = mean_absolute_error(y_test_6, y_pred)\n",
    "\n",
    "print(f\"MSE: {round(mse, 4)}\")\n",
    "print(f\"MAE: {round(mae, 4)}\")"
   ]
  },
  {
   "cell_type": "markdown",
   "id": "f74f515c",
   "metadata": {},
   "source": [
    "### Modeling by Linear Regression and XGBoost (x=all_features)"
   ]
  },
  {
   "cell_type": "code",
   "execution_count": 47,
   "id": "0118bd87",
   "metadata": {},
   "outputs": [
    {
     "data": {
      "text/plain": [
       "108"
      ]
     },
     "execution_count": 47,
     "metadata": {},
     "output_type": "execute_result"
    }
   ],
   "source": [
    "# convert the dimension from 3 to 2\n",
    "s1 = np.array(x_train_1_all_features).shape[0]\n",
    "s2 = np.array(x_train_1_all_features).shape[1]\n",
    "s3 = np.array(x_train_1_all_features).shape[2]\n",
    "\n",
    "x_train_1_all_features_2D = np.array(x_train_1_all_features).reshape(s1, s2*s3)\n",
    "\n",
    "len(x_train_1_all_features_2D[0])"
   ]
  },
  {
   "cell_type": "code",
   "execution_count": 48,
   "id": "7e22a06f",
   "metadata": {},
   "outputs": [
    {
     "data": {
      "text/plain": [
       "108"
      ]
     },
     "execution_count": 48,
     "metadata": {},
     "output_type": "execute_result"
    }
   ],
   "source": [
    "s1 = np.array(x_test_1_all_features).shape[0]\n",
    "s2 = np.array(x_test_1_all_features).shape[1]\n",
    "s3 = np.array(x_test_1_all_features).shape[2]\n",
    "\n",
    "x_test_1_all_features_2D = np.array(x_test_1_all_features).reshape(s1, s2*s3)\n",
    "\n",
    "len(x_test_1_all_features_2D[0])"
   ]
  },
  {
   "cell_type": "code",
   "execution_count": 49,
   "id": "e3fe0dc3",
   "metadata": {},
   "outputs": [],
   "source": [
    "def dimension_conversion(dataset):\n",
    "    s1 = np.array(dataset).shape[0]\n",
    "    s2 = np.array(dataset).shape[1]\n",
    "    s3 = np.array(dataset).shape[2]\n",
    "\n",
    "    dataset_2D = np.array(dataset).reshape(s1, s2*s3)\n",
    "    return dataset_2D"
   ]
  },
  {
   "cell_type": "code",
   "execution_count": 50,
   "id": "0eccfc61",
   "metadata": {},
   "outputs": [],
   "source": [
    "x_train_6_all_features_2D = dimension_conversion(x_train_6_all_features)\n",
    "x_test_6_all_features_2D = dimension_conversion(x_test_6_all_features)"
   ]
  },
  {
   "cell_type": "markdown",
   "id": "1cd44347",
   "metadata": {},
   "source": [
    "### Use Linear Regression to predict the next 1 hours"
   ]
  },
  {
   "cell_type": "code",
   "execution_count": 51,
   "id": "4b278f5a",
   "metadata": {},
   "outputs": [
    {
     "data": {
      "text/plain": [
       "0.7507147219390069"
      ]
     },
     "execution_count": 51,
     "metadata": {},
     "output_type": "execute_result"
    }
   ],
   "source": [
    "from sklearn.linear_model import LinearRegression\n",
    "from sklearn.metrics import mean_absolute_error, mean_squared_error\n",
    "\n",
    "# create an instance of Linear Regression\n",
    "lin_reg = LinearRegression()\n",
    "\n",
    "# use X and Y to fit the Regression Model\n",
    "lin_reg.fit(x_train_1_all_features_2D, y_train_1)\n",
    "lin_reg.score(x_train_1_all_features_2D, y_train_1)"
   ]
  },
  {
   "cell_type": "code",
   "execution_count": 52,
   "id": "daa0978f",
   "metadata": {},
   "outputs": [
    {
     "name": "stdout",
     "output_type": "stream",
     "text": [
      "MSE: 10.6218\n",
      "MAE: 2.3878\n"
     ]
    }
   ],
   "source": [
    "y_pred = lin_reg.predict(x_train_1_all_features_2D)\n",
    "\n",
    "# MSE & MAE\n",
    "mse = mean_squared_error(y_train_1, y_pred)\n",
    "mae = mean_absolute_error(y_train_1, y_pred)\n",
    "\n",
    "print(f\"MSE: {round(mse, 4)}\")\n",
    "print(f\"MAE: {round(mae, 4)}\")"
   ]
  },
  {
   "cell_type": "code",
   "execution_count": 53,
   "id": "97926269",
   "metadata": {},
   "outputs": [
    {
     "name": "stdout",
     "output_type": "stream",
     "text": [
      "MSE: 13.8619\n",
      "MAE: 2.6476\n"
     ]
    }
   ],
   "source": [
    "y_pred = lin_reg.predict(x_test_1_all_features_2D)\n",
    "\n",
    "# MSE & MAE\n",
    "mse = mean_squared_error(y_test_1, y_pred)\n",
    "mae = mean_absolute_error(y_test_1, y_pred)\n",
    "\n",
    "print(f\"MSE: {round(mse, 4)}\")\n",
    "print(f\"MAE: {round(mae, 4)}\")"
   ]
  },
  {
   "cell_type": "markdown",
   "id": "3c2e18cf",
   "metadata": {},
   "source": [
    "### Use XGBoost to predict the next 1 hours"
   ]
  },
  {
   "cell_type": "code",
   "execution_count": 54,
   "id": "4bd98fb0",
   "metadata": {},
   "outputs": [
    {
     "data": {
      "text/plain": [
       "XGBRegressor(base_score=0.5, booster='gbtree', callbacks=None,\n",
       "             colsample_bylevel=1, colsample_bynode=1, colsample_bytree=1,\n",
       "             early_stopping_rounds=None, enable_categorical=False,\n",
       "             eval_metric=None, gamma=0, gpu_id=-1, grow_policy='depthwise',\n",
       "             importance_type=None, interaction_constraints='',\n",
       "             learning_rate=0.300000012, max_bin=256, max_cat_to_onehot=4,\n",
       "             max_delta_step=0, max_depth=6, max_leaves=0, min_child_weight=1,\n",
       "             missing=nan, monotone_constraints='()', n_estimators=100, n_jobs=0,\n",
       "             num_parallel_tree=1, predictor='auto', random_state=42,\n",
       "             reg_alpha=0, reg_lambda=1, ...)"
      ]
     },
     "execution_count": 54,
     "metadata": {},
     "output_type": "execute_result"
    }
   ],
   "source": [
    "xgb_model = xgb.XGBRegressor(objective=\"reg:squarederror\", random_state=42)\n",
    "\n",
    "xgb_model.fit(x_train_1_all_features_2D, y_train_1)"
   ]
  },
  {
   "cell_type": "code",
   "execution_count": 55,
   "id": "0ec671c3",
   "metadata": {},
   "outputs": [
    {
     "name": "stdout",
     "output_type": "stream",
     "text": [
      "MSE: 0.0069\n",
      "MAE: 0.058\n"
     ]
    }
   ],
   "source": [
    "y_pred = xgb_model.predict(x_train_1_all_features_2D)\n",
    "\n",
    "# MSE & MAE\n",
    "mse = mean_squared_error(y_train_1, y_pred)\n",
    "mae = mean_absolute_error(y_train_1, y_pred)\n",
    "\n",
    "print(f\"MSE: {round(mse, 4)}\")\n",
    "print(f\"MAE: {round(mae, 4)}\")"
   ]
  },
  {
   "cell_type": "code",
   "execution_count": 56,
   "id": "44878a63",
   "metadata": {},
   "outputs": [
    {
     "name": "stdout",
     "output_type": "stream",
     "text": [
      "MSE: 18.8855\n",
      "MAE: 3.1325\n"
     ]
    }
   ],
   "source": [
    "y_pred = xgb_model.predict(x_test_1_all_features_2D)\n",
    "\n",
    "# MSE & MAE\n",
    "mse = mean_squared_error(y_test_1, y_pred)\n",
    "mae = mean_absolute_error(y_test_1, y_pred)\n",
    "\n",
    "print(f\"MSE: {round(mse, 4)}\")\n",
    "print(f\"MAE: {round(mae, 4)}\")"
   ]
  },
  {
   "cell_type": "markdown",
   "id": "691d9a78",
   "metadata": {},
   "source": [
    "### Use Linear Regression to predict the next 6 hours"
   ]
  },
  {
   "cell_type": "code",
   "execution_count": 57,
   "id": "ea7a8261",
   "metadata": {},
   "outputs": [
    {
     "data": {
      "text/plain": [
       "0.4170238455461509"
      ]
     },
     "execution_count": 57,
     "metadata": {},
     "output_type": "execute_result"
    }
   ],
   "source": [
    "lin_reg = LinearRegression()\n",
    "\n",
    "lin_reg.fit(x_train_6_all_features_2D, y_train_6)\n",
    "lin_reg.score(x_train_6_all_features_2D, y_train_6)"
   ]
  },
  {
   "cell_type": "code",
   "execution_count": 58,
   "id": "7d9deb41",
   "metadata": {},
   "outputs": [
    {
     "name": "stdout",
     "output_type": "stream",
     "text": [
      "MSE: 24.1103\n",
      "MAE: 3.6198\n"
     ]
    }
   ],
   "source": [
    "y_pred = lin_reg.predict(x_train_6_all_features_2D)\n",
    "\n",
    "# MSE & MAE\n",
    "mse = mean_squared_error(y_train_6, y_pred)\n",
    "mae = mean_absolute_error(y_train_6, y_pred)\n",
    "\n",
    "print(f\"MSE: {round(mse, 4)}\")\n",
    "print(f\"MAE: {round(mae, 4)}\")"
   ]
  },
  {
   "cell_type": "code",
   "execution_count": 59,
   "id": "92449deb",
   "metadata": {},
   "outputs": [
    {
     "name": "stdout",
     "output_type": "stream",
     "text": [
      "MSE: 42.0842\n",
      "MAE: 4.3532\n"
     ]
    }
   ],
   "source": [
    "y_pred = lin_reg.predict(x_test_6_all_features_2D)\n",
    "\n",
    "# MSE & MAE\n",
    "mse = mean_squared_error(y_test_6, y_pred)\n",
    "mae = mean_absolute_error(y_test_6, y_pred)\n",
    "\n",
    "print(f\"MSE: {round(mse, 4)}\")\n",
    "print(f\"MAE: {round(mae, 4)}\")"
   ]
  },
  {
   "cell_type": "markdown",
   "id": "7c0c41de",
   "metadata": {},
   "source": [
    "### Use XGBoost to predict the next 6 hours"
   ]
  },
  {
   "cell_type": "code",
   "execution_count": 60,
   "id": "0977c599",
   "metadata": {},
   "outputs": [
    {
     "data": {
      "text/plain": [
       "XGBRegressor(base_score=0.5, booster='gbtree', callbacks=None,\n",
       "             colsample_bylevel=1, colsample_bynode=1, colsample_bytree=1,\n",
       "             early_stopping_rounds=None, enable_categorical=False,\n",
       "             eval_metric=None, gamma=0, gpu_id=-1, grow_policy='depthwise',\n",
       "             importance_type=None, interaction_constraints='',\n",
       "             learning_rate=0.300000012, max_bin=256, max_cat_to_onehot=4,\n",
       "             max_delta_step=0, max_depth=6, max_leaves=0, min_child_weight=1,\n",
       "             missing=nan, monotone_constraints='()', n_estimators=100, n_jobs=0,\n",
       "             num_parallel_tree=1, predictor='auto', random_state=42,\n",
       "             reg_alpha=0, reg_lambda=1, ...)"
      ]
     },
     "execution_count": 60,
     "metadata": {},
     "output_type": "execute_result"
    }
   ],
   "source": [
    "xgb_model = xgb.XGBRegressor(objective=\"reg:squarederror\", random_state=42)\n",
    "\n",
    "xgb_model.fit(x_train_6_all_features_2D, y_train_6)"
   ]
  },
  {
   "cell_type": "code",
   "execution_count": 61,
   "id": "f4e48f01",
   "metadata": {},
   "outputs": [
    {
     "name": "stdout",
     "output_type": "stream",
     "text": [
      "MSE: 0.0101\n",
      "MAE: 0.071\n"
     ]
    }
   ],
   "source": [
    "y_pred = xgb_model.predict(x_train_6_all_features_2D)\n",
    "\n",
    "# MSE & MAE\n",
    "mse = mean_squared_error(y_train_6, y_pred)\n",
    "mae = mean_absolute_error(y_train_6, y_pred)\n",
    "\n",
    "print(f\"MSE: {round(mse, 4)}\")\n",
    "print(f\"MAE: {round(mae, 4)}\")"
   ]
  },
  {
   "cell_type": "code",
   "execution_count": 62,
   "id": "019fb85a",
   "metadata": {},
   "outputs": [
    {
     "name": "stdout",
     "output_type": "stream",
     "text": [
      "MSE: 59.9362\n",
      "MAE: 5.1039\n"
     ]
    }
   ],
   "source": [
    "y_pred = xgb_model.predict(x_test_6_all_features_2D)\n",
    "\n",
    "# MSE & MAE\n",
    "mse = mean_squared_error(y_test_6, y_pred)\n",
    "mae = mean_absolute_error(y_test_6, y_pred)\n",
    "\n",
    "print(f\"MSE: {round(mse, 4)}\")\n",
    "print(f\"MAE: {round(mae, 4)}\")"
   ]
  },
  {
   "cell_type": "code",
   "execution_count": 63,
   "id": "3d228e7e",
   "metadata": {},
   "outputs": [],
   "source": [
    "# seems like XGBoost is easy to fall into the problem of \"Overfitting.\" \n",
    "# a simple linear regression is more usefull in this case to predict the PM2.5 index "
   ]
  },
  {
   "cell_type": "code",
   "execution_count": null,
   "id": "fb289663",
   "metadata": {},
   "outputs": [],
   "source": []
  },
  {
   "cell_type": "code",
   "execution_count": null,
   "id": "40ab6d18",
   "metadata": {},
   "outputs": [],
   "source": []
  }
 ],
 "metadata": {
  "kernelspec": {
   "display_name": "Python 3",
   "language": "python",
   "name": "python3"
  },
  "language_info": {
   "codemirror_mode": {
    "name": "ipython",
    "version": 3
   },
   "file_extension": ".py",
   "mimetype": "text/x-python",
   "name": "python",
   "nbconvert_exporter": "python",
   "pygments_lexer": "ipython3",
   "version": "3.8.8"
  }
 },
 "nbformat": 4,
 "nbformat_minor": 5
}
